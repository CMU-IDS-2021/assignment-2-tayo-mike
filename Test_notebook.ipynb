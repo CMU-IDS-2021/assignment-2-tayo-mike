{
 "metadata": {
  "language_info": {
   "codemirror_mode": {
    "name": "ipython",
    "version": 3
   },
   "file_extension": ".py",
   "mimetype": "text/x-python",
   "name": "python",
   "nbconvert_exporter": "python",
   "pygments_lexer": "ipython3",
   "version": "3.8.5-final"
  },
  "orig_nbformat": 2,
  "kernelspec": {
   "name": "python3",
   "display_name": "Python 3.8.5 64-bit ('base': conda)",
   "metadata": {
    "interpreter": {
     "hash": "46ec68e1ef3ae8d16cd943bf7c63187aed798444c361676ba542fc16a3febfad"
    }
   }
  }
 },
 "nbformat": 4,
 "nbformat_minor": 2,
 "cells": [
  {
   "cell_type": "code",
   "execution_count": 96,
   "metadata": {},
   "outputs": [],
   "source": [
    "import pandas as pd\n",
    "import numpy as np\n",
    "import fnmatch \n",
    "import os\n"
   ]
  },
  {
   "cell_type": "code",
   "execution_count": null,
   "metadata": {},
   "outputs": [],
   "source": [
    "# https://realpython.com/working-with-files-in-python/"
   ]
  },
  {
   "cell_type": "code",
   "execution_count": 108,
   "metadata": {},
   "outputs": [
    {
     "output_type": "execute_result",
     "data": {
      "text/plain": [
       "['Dataset\\\\health_ineq_online_table_4.csv', 'Dataset\\\\mrc_table4.csv']"
      ]
     },
     "metadata": {},
     "execution_count": 108
    }
   ],
   "source": [
    "\n",
    "fn = list()\n",
    "\n",
    "for filename in os.listdir(\"Dataset\"):\n",
    "    if fnmatch.fnmatch(filename,'*.csv'):\n",
    "        fn.append(\"Dataset\\\\\" + filename)\n",
    "fn "
   ]
  },
  {
   "cell_type": "code",
   "execution_count": 110,
   "metadata": {},
   "outputs": [
    {
     "output_type": "execute_result",
     "data": {
      "text/plain": [
       "      super_opeid                                             name  type  \\\n",
       "0           30955  ASA Institute Of Business & Computer Technology   3.0   \n",
       "1            3537                     Abilene Christian University   2.0   \n",
       "2            1541             Abraham Baldwin Agricultural College   1.0   \n",
       "3            7531                        Academy Of Art University   3.0   \n",
       "4            1345                           Adams State University   1.0   \n",
       "...           ...                                              ...   ...   \n",
       "2461           42                  Yuba Community College District   1.0   \n",
       "2462         8133                               Zane State College   1.0   \n",
       "2463          -99                               Late College Goers   NaN   \n",
       "2464           -9         Never Attended College (up to year 2013)   NaN   \n",
       "2465           -1                  Colleges with insufficient data   NaN   \n",
       "\n",
       "      tier                                     tier_name  iclevel  region  \\\n",
       "0       11                           Two-year for-profit      2.0     1.0   \n",
       "1        6                             Selective private      1.0     3.0   \n",
       "2        7                 Nonselective four-year public      1.0     3.0   \n",
       "3       10                          Four-year for-profit      1.0     4.0   \n",
       "4        5                              Selective public      1.0     4.0   \n",
       "...    ...                                           ...      ...     ...   \n",
       "2461     9  Two-year (public and private not-for-profit)      2.0     4.0   \n",
       "2462     9  Two-year (public and private not-for-profit)      2.0     2.0   \n",
       "2463    14      Not in college between the ages of 19-22      NaN     NaN   \n",
       "2464    14      Not in college between the ages of 19-22      NaN     NaN   \n",
       "2465    13      Attending college with insufficient data      NaN     NaN   \n",
       "\n",
       "     state       cz         czname  ...  kq3_cond_parq5_age28  \\\n",
       "0       NY  19400.0       New York  ...              0.058658   \n",
       "1       TX  32501.0        Abilene  ...              0.136146   \n",
       "2       GA   8503.0       Valdosta  ...              0.185501   \n",
       "3       CA  37800.0  San Francisco  ...              0.182764   \n",
       "4       CO  34805.0        Alamosa  ...              0.240407   \n",
       "...    ...      ...            ...  ...                   ...   \n",
       "2461    CA  37300.0          Chico  ...              0.187399   \n",
       "2462    OH  15400.0     Zanesville  ...              0.282140   \n",
       "2463   NaN      NaN            NaN  ...              0.200660   \n",
       "2464   NaN      NaN            NaN  ...              0.172074   \n",
       "2465   NaN      NaN            NaN  ...              0.211257   \n",
       "\n",
       "     kq4_cond_parq5_age28  kq5_cond_parq5_age28  ktop1pc_cond_parq1_age28  \\\n",
       "0                0.213181              0.069291                  0.000000   \n",
       "1                0.239555              0.362779                  0.031908   \n",
       "2                0.290488              0.239236                  0.005048   \n",
       "3                0.142108              0.246141                  0.010290   \n",
       "4                0.232917              0.288042                  0.000041   \n",
       "...                   ...                   ...                       ...   \n",
       "2461             0.231026              0.252407                  0.000006   \n",
       "2462             0.187347              0.201584                  0.000000   \n",
       "2463             0.191821              0.184760                  0.000650   \n",
       "2464             0.166894              0.149636                  0.000608   \n",
       "2465             0.206292              0.202748                  0.000709   \n",
       "\n",
       "      ktop1pc_cond_parq2_age28  ktop1pc_cond_parq3_age28  \\\n",
       "0                     0.000000                  0.000000   \n",
       "1                     0.015530                  0.016319   \n",
       "2                     0.006120                  0.001834   \n",
       "3                     0.008177                  0.003144   \n",
       "4                     0.000000                  0.005716   \n",
       "...                        ...                       ...   \n",
       "2461                  0.001655                  0.001708   \n",
       "2462                  0.003594                  0.000000   \n",
       "2463                  0.000898                  0.001369   \n",
       "2464                  0.000726                  0.001132   \n",
       "2465                  0.001068                  0.001693   \n",
       "\n",
       "      ktop1pc_cond_parq4_age28  ktop1pc_cond_parq5_age28  shareimputed_age28  \\\n",
       "0                     0.000000                  0.010728            0.000000   \n",
       "1                     0.014470                  0.041981            0.000000   \n",
       "2                     0.004001                  0.009598            0.000000   \n",
       "3                     0.005996                  0.025131            0.000000   \n",
       "4                     0.002835                  0.014093            0.000000   \n",
       "...                        ...                       ...                 ...   \n",
       "2461                  0.002592                  0.008188            0.000000   \n",
       "2462                  0.001227                  0.009902            0.000000   \n",
       "2463                  0.002306                  0.006697            0.000000   \n",
       "2464                  0.001729                  0.005249            0.000000   \n",
       "2465                  0.003495                  0.010106            0.008522   \n",
       "\n",
       "      imputed_age28  \n",
       "0          0.000000  \n",
       "1          0.000000  \n",
       "2          0.000000  \n",
       "3          0.000000  \n",
       "4          0.000000  \n",
       "...             ...  \n",
       "2461       0.000000  \n",
       "2462       0.000000  \n",
       "2463       0.000000  \n",
       "2464       0.000000  \n",
       "2465       0.011697  \n",
       "\n",
       "[2466 rows x 477 columns]"
      ],
      "text/html": "<div>\n<style scoped>\n    .dataframe tbody tr th:only-of-type {\n        vertical-align: middle;\n    }\n\n    .dataframe tbody tr th {\n        vertical-align: top;\n    }\n\n    .dataframe thead th {\n        text-align: right;\n    }\n</style>\n<table border=\"1\" class=\"dataframe\">\n  <thead>\n    <tr style=\"text-align: right;\">\n      <th></th>\n      <th>super_opeid</th>\n      <th>name</th>\n      <th>type</th>\n      <th>tier</th>\n      <th>tier_name</th>\n      <th>iclevel</th>\n      <th>region</th>\n      <th>state</th>\n      <th>cz</th>\n      <th>czname</th>\n      <th>...</th>\n      <th>kq3_cond_parq5_age28</th>\n      <th>kq4_cond_parq5_age28</th>\n      <th>kq5_cond_parq5_age28</th>\n      <th>ktop1pc_cond_parq1_age28</th>\n      <th>ktop1pc_cond_parq2_age28</th>\n      <th>ktop1pc_cond_parq3_age28</th>\n      <th>ktop1pc_cond_parq4_age28</th>\n      <th>ktop1pc_cond_parq5_age28</th>\n      <th>shareimputed_age28</th>\n      <th>imputed_age28</th>\n    </tr>\n  </thead>\n  <tbody>\n    <tr>\n      <th>0</th>\n      <td>30955</td>\n      <td>ASA Institute Of Business &amp; Computer Technology</td>\n      <td>3.0</td>\n      <td>11</td>\n      <td>Two-year for-profit</td>\n      <td>2.0</td>\n      <td>1.0</td>\n      <td>NY</td>\n      <td>19400.0</td>\n      <td>New York</td>\n      <td>...</td>\n      <td>0.058658</td>\n      <td>0.213181</td>\n      <td>0.069291</td>\n      <td>0.000000</td>\n      <td>0.000000</td>\n      <td>0.000000</td>\n      <td>0.000000</td>\n      <td>0.010728</td>\n      <td>0.000000</td>\n      <td>0.000000</td>\n    </tr>\n    <tr>\n      <th>1</th>\n      <td>3537</td>\n      <td>Abilene Christian University</td>\n      <td>2.0</td>\n      <td>6</td>\n      <td>Selective private</td>\n      <td>1.0</td>\n      <td>3.0</td>\n      <td>TX</td>\n      <td>32501.0</td>\n      <td>Abilene</td>\n      <td>...</td>\n      <td>0.136146</td>\n      <td>0.239555</td>\n      <td>0.362779</td>\n      <td>0.031908</td>\n      <td>0.015530</td>\n      <td>0.016319</td>\n      <td>0.014470</td>\n      <td>0.041981</td>\n      <td>0.000000</td>\n      <td>0.000000</td>\n    </tr>\n    <tr>\n      <th>2</th>\n      <td>1541</td>\n      <td>Abraham Baldwin Agricultural College</td>\n      <td>1.0</td>\n      <td>7</td>\n      <td>Nonselective four-year public</td>\n      <td>1.0</td>\n      <td>3.0</td>\n      <td>GA</td>\n      <td>8503.0</td>\n      <td>Valdosta</td>\n      <td>...</td>\n      <td>0.185501</td>\n      <td>0.290488</td>\n      <td>0.239236</td>\n      <td>0.005048</td>\n      <td>0.006120</td>\n      <td>0.001834</td>\n      <td>0.004001</td>\n      <td>0.009598</td>\n      <td>0.000000</td>\n      <td>0.000000</td>\n    </tr>\n    <tr>\n      <th>3</th>\n      <td>7531</td>\n      <td>Academy Of Art University</td>\n      <td>3.0</td>\n      <td>10</td>\n      <td>Four-year for-profit</td>\n      <td>1.0</td>\n      <td>4.0</td>\n      <td>CA</td>\n      <td>37800.0</td>\n      <td>San Francisco</td>\n      <td>...</td>\n      <td>0.182764</td>\n      <td>0.142108</td>\n      <td>0.246141</td>\n      <td>0.010290</td>\n      <td>0.008177</td>\n      <td>0.003144</td>\n      <td>0.005996</td>\n      <td>0.025131</td>\n      <td>0.000000</td>\n      <td>0.000000</td>\n    </tr>\n    <tr>\n      <th>4</th>\n      <td>1345</td>\n      <td>Adams State University</td>\n      <td>1.0</td>\n      <td>5</td>\n      <td>Selective public</td>\n      <td>1.0</td>\n      <td>4.0</td>\n      <td>CO</td>\n      <td>34805.0</td>\n      <td>Alamosa</td>\n      <td>...</td>\n      <td>0.240407</td>\n      <td>0.232917</td>\n      <td>0.288042</td>\n      <td>0.000041</td>\n      <td>0.000000</td>\n      <td>0.005716</td>\n      <td>0.002835</td>\n      <td>0.014093</td>\n      <td>0.000000</td>\n      <td>0.000000</td>\n    </tr>\n    <tr>\n      <th>...</th>\n      <td>...</td>\n      <td>...</td>\n      <td>...</td>\n      <td>...</td>\n      <td>...</td>\n      <td>...</td>\n      <td>...</td>\n      <td>...</td>\n      <td>...</td>\n      <td>...</td>\n      <td>...</td>\n      <td>...</td>\n      <td>...</td>\n      <td>...</td>\n      <td>...</td>\n      <td>...</td>\n      <td>...</td>\n      <td>...</td>\n      <td>...</td>\n      <td>...</td>\n      <td>...</td>\n    </tr>\n    <tr>\n      <th>2461</th>\n      <td>42</td>\n      <td>Yuba Community College District</td>\n      <td>1.0</td>\n      <td>9</td>\n      <td>Two-year (public and private not-for-profit)</td>\n      <td>2.0</td>\n      <td>4.0</td>\n      <td>CA</td>\n      <td>37300.0</td>\n      <td>Chico</td>\n      <td>...</td>\n      <td>0.187399</td>\n      <td>0.231026</td>\n      <td>0.252407</td>\n      <td>0.000006</td>\n      <td>0.001655</td>\n      <td>0.001708</td>\n      <td>0.002592</td>\n      <td>0.008188</td>\n      <td>0.000000</td>\n      <td>0.000000</td>\n    </tr>\n    <tr>\n      <th>2462</th>\n      <td>8133</td>\n      <td>Zane State College</td>\n      <td>1.0</td>\n      <td>9</td>\n      <td>Two-year (public and private not-for-profit)</td>\n      <td>2.0</td>\n      <td>2.0</td>\n      <td>OH</td>\n      <td>15400.0</td>\n      <td>Zanesville</td>\n      <td>...</td>\n      <td>0.282140</td>\n      <td>0.187347</td>\n      <td>0.201584</td>\n      <td>0.000000</td>\n      <td>0.003594</td>\n      <td>0.000000</td>\n      <td>0.001227</td>\n      <td>0.009902</td>\n      <td>0.000000</td>\n      <td>0.000000</td>\n    </tr>\n    <tr>\n      <th>2463</th>\n      <td>-99</td>\n      <td>Late College Goers</td>\n      <td>NaN</td>\n      <td>14</td>\n      <td>Not in college between the ages of 19-22</td>\n      <td>NaN</td>\n      <td>NaN</td>\n      <td>NaN</td>\n      <td>NaN</td>\n      <td>NaN</td>\n      <td>...</td>\n      <td>0.200660</td>\n      <td>0.191821</td>\n      <td>0.184760</td>\n      <td>0.000650</td>\n      <td>0.000898</td>\n      <td>0.001369</td>\n      <td>0.002306</td>\n      <td>0.006697</td>\n      <td>0.000000</td>\n      <td>0.000000</td>\n    </tr>\n    <tr>\n      <th>2464</th>\n      <td>-9</td>\n      <td>Never Attended College (up to year 2013)</td>\n      <td>NaN</td>\n      <td>14</td>\n      <td>Not in college between the ages of 19-22</td>\n      <td>NaN</td>\n      <td>NaN</td>\n      <td>NaN</td>\n      <td>NaN</td>\n      <td>NaN</td>\n      <td>...</td>\n      <td>0.172074</td>\n      <td>0.166894</td>\n      <td>0.149636</td>\n      <td>0.000608</td>\n      <td>0.000726</td>\n      <td>0.001132</td>\n      <td>0.001729</td>\n      <td>0.005249</td>\n      <td>0.000000</td>\n      <td>0.000000</td>\n    </tr>\n    <tr>\n      <th>2465</th>\n      <td>-1</td>\n      <td>Colleges with insufficient data</td>\n      <td>NaN</td>\n      <td>13</td>\n      <td>Attending college with insufficient data</td>\n      <td>NaN</td>\n      <td>NaN</td>\n      <td>NaN</td>\n      <td>NaN</td>\n      <td>NaN</td>\n      <td>...</td>\n      <td>0.211257</td>\n      <td>0.206292</td>\n      <td>0.202748</td>\n      <td>0.000709</td>\n      <td>0.001068</td>\n      <td>0.001693</td>\n      <td>0.003495</td>\n      <td>0.010106</td>\n      <td>0.008522</td>\n      <td>0.011697</td>\n    </tr>\n  </tbody>\n</table>\n<p>2466 rows × 477 columns</p>\n</div>"
     },
     "metadata": {},
     "execution_count": 110
    }
   ],
   "source": [
    "pd.read_csv(fn[1])"
   ]
  },
  {
   "cell_type": "code",
   "execution_count": null,
   "metadata": {},
   "outputs": [],
   "source": []
  }
 ]
}