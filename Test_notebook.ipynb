{
 "metadata": {
  "language_info": {
   "codemirror_mode": {
    "name": "ipython",
    "version": 3
   },
   "file_extension": ".py",
   "mimetype": "text/x-python",
   "name": "python",
   "nbconvert_exporter": "python",
   "pygments_lexer": "ipython3",
   "version": "3.8.5-final"
  },
  "orig_nbformat": 2,
  "kernelspec": {
   "name": "python3",
   "display_name": "Python 3.8.5 64-bit (conda)",
   "metadata": {
    "interpreter": {
     "hash": "46ec68e1ef3ae8d16cd943bf7c63187aed798444c361676ba542fc16a3febfad"
    }
   }
  }
 },
 "nbformat": 4,
 "nbformat_minor": 2,
 "cells": [
  {
   "cell_type": "code",
   "execution_count": 4,
   "metadata": {},
   "outputs": [],
   "source": [
    "import pandas as pd\n",
    "import numpy as np\n",
    "import fnmatch \n",
    "import os\n",
    "import altair as alt\n",
    "from vega_datasets import data"
   ]
  },
  {
   "cell_type": "code",
   "execution_count": null,
   "metadata": {},
   "outputs": [],
   "source": [
    "# https://realpython.com/working-with-files-in-python/"
   ]
  },
  {
   "cell_type": "code",
   "execution_count": 19,
   "metadata": {},
   "outputs": [
    {
     "output_type": "execute_result",
     "data": {
      "text/plain": [
       "['Dataset\\\\health_ineq_online_table_2.csv',\n",
       " 'Dataset\\\\health_ineq_online_table_4.csv',\n",
       " 'Dataset\\\\health_ineq_online_table_5.csv',\n",
       " 'Dataset\\\\mrc_table4.csv']"
      ]
     },
     "metadata": {},
     "execution_count": 19
    }
   ],
   "source": [
    "\n",
    "fn = list()\n",
    "\n",
    "for filename in os.listdir(\"Dataset\"):\n",
    "    if fnmatch.fnmatch(filename,'*.csv'):\n",
    "        fn.append(\"Dataset\\\\\" + filename)\n",
    "fn "
   ]
  },
  {
   "cell_type": "code",
   "execution_count": 34,
   "metadata": {},
   "outputs": [
    {
     "output_type": "execute_result",
     "data": {
      "text/plain": [
       "           year  le_agg_q1_F  le_raceadj_q1_F  le_agg_q2_F  le_raceadj_q2_F  \\\n",
       "statename                                                                     \n",
       "Alabama    2001     80.97743         81.73687     83.79784         84.27046   \n",
       "Alabama    2002     81.55089         82.29413     85.19556         85.62631   \n",
       "Alabama    2003     80.66910         81.44639     84.45503         84.91285   \n",
       "Alabama    2004     82.78710         83.54853     83.22166         83.73943   \n",
       "Alabama    2005     81.99500         82.79951     84.92139         85.40220   \n",
       "\n",
       "           le_agg_q3_F  le_raceadj_q3_F  le_agg_q4_F  le_raceadj_q4_F  \\\n",
       "statename                                                               \n",
       "Alabama       85.22591         85.57561     86.63757         86.91793   \n",
       "Alabama       86.95560         87.24429     85.93871         86.24170   \n",
       "Alabama       84.41888         84.79807     87.63429         87.87489   \n",
       "Alabama       85.77566         86.11910     87.28502         87.53855   \n",
       "Alabama       86.13605         86.47382     87.65756         87.89859   \n",
       "\n",
       "           le_agg_q1_M  ...  sd_le_agg_q4_M  sd_le_raceadj_q4_M  count_q1_F  \\\n",
       "statename               ...                                                   \n",
       "Alabama       73.85774  ...        1.277105            1.238102      194089   \n",
       "Alabama       73.57462  ...        1.313188            1.272126      204031   \n",
       "Alabama       75.40674  ...        1.291976            1.252970      207635   \n",
       "Alabama       73.67553  ...        0.937085            0.901302      209570   \n",
       "Alabama       74.46228  ...        1.133858            1.095498      209463   \n",
       "\n",
       "           count_q2_F  count_q3_F  count_q4_F  count_q1_M  count_q2_M  \\\n",
       "statename                                                               \n",
       "Alabama        158475      147619      120205      165515      160929   \n",
       "Alabama        162615      148026      116868      172638      163867   \n",
       "Alabama        163953      149117      119178      174545      164215   \n",
       "Alabama        166413      149730      122762      175617      165009   \n",
       "Alabama        167581      151420      126151      174581      166114   \n",
       "\n",
       "           count_q3_M  count_q4_M  \n",
       "statename                          \n",
       "Alabama        143569      113529  \n",
       "Alabama        145058      110186  \n",
       "Alabama        145901      112692  \n",
       "Alabama        147526      115676  \n",
       "Alabama        148807      119517  \n",
       "\n",
       "[5 rows x 41 columns]"
      ],
      "text/html": "<div>\n<style scoped>\n    .dataframe tbody tr th:only-of-type {\n        vertical-align: middle;\n    }\n\n    .dataframe tbody tr th {\n        vertical-align: top;\n    }\n\n    .dataframe thead th {\n        text-align: right;\n    }\n</style>\n<table border=\"1\" class=\"dataframe\">\n  <thead>\n    <tr style=\"text-align: right;\">\n      <th></th>\n      <th>year</th>\n      <th>le_agg_q1_F</th>\n      <th>le_raceadj_q1_F</th>\n      <th>le_agg_q2_F</th>\n      <th>le_raceadj_q2_F</th>\n      <th>le_agg_q3_F</th>\n      <th>le_raceadj_q3_F</th>\n      <th>le_agg_q4_F</th>\n      <th>le_raceadj_q4_F</th>\n      <th>le_agg_q1_M</th>\n      <th>...</th>\n      <th>sd_le_agg_q4_M</th>\n      <th>sd_le_raceadj_q4_M</th>\n      <th>count_q1_F</th>\n      <th>count_q2_F</th>\n      <th>count_q3_F</th>\n      <th>count_q4_F</th>\n      <th>count_q1_M</th>\n      <th>count_q2_M</th>\n      <th>count_q3_M</th>\n      <th>count_q4_M</th>\n    </tr>\n    <tr>\n      <th>statename</th>\n      <th></th>\n      <th></th>\n      <th></th>\n      <th></th>\n      <th></th>\n      <th></th>\n      <th></th>\n      <th></th>\n      <th></th>\n      <th></th>\n      <th></th>\n      <th></th>\n      <th></th>\n      <th></th>\n      <th></th>\n      <th></th>\n      <th></th>\n      <th></th>\n      <th></th>\n      <th></th>\n      <th></th>\n    </tr>\n  </thead>\n  <tbody>\n    <tr>\n      <th>Alabama</th>\n      <td>2001</td>\n      <td>80.97743</td>\n      <td>81.73687</td>\n      <td>83.79784</td>\n      <td>84.27046</td>\n      <td>85.22591</td>\n      <td>85.57561</td>\n      <td>86.63757</td>\n      <td>86.91793</td>\n      <td>73.85774</td>\n      <td>...</td>\n      <td>1.277105</td>\n      <td>1.238102</td>\n      <td>194089</td>\n      <td>158475</td>\n      <td>147619</td>\n      <td>120205</td>\n      <td>165515</td>\n      <td>160929</td>\n      <td>143569</td>\n      <td>113529</td>\n    </tr>\n    <tr>\n      <th>Alabama</th>\n      <td>2002</td>\n      <td>81.55089</td>\n      <td>82.29413</td>\n      <td>85.19556</td>\n      <td>85.62631</td>\n      <td>86.95560</td>\n      <td>87.24429</td>\n      <td>85.93871</td>\n      <td>86.24170</td>\n      <td>73.57462</td>\n      <td>...</td>\n      <td>1.313188</td>\n      <td>1.272126</td>\n      <td>204031</td>\n      <td>162615</td>\n      <td>148026</td>\n      <td>116868</td>\n      <td>172638</td>\n      <td>163867</td>\n      <td>145058</td>\n      <td>110186</td>\n    </tr>\n    <tr>\n      <th>Alabama</th>\n      <td>2003</td>\n      <td>80.66910</td>\n      <td>81.44639</td>\n      <td>84.45503</td>\n      <td>84.91285</td>\n      <td>84.41888</td>\n      <td>84.79807</td>\n      <td>87.63429</td>\n      <td>87.87489</td>\n      <td>75.40674</td>\n      <td>...</td>\n      <td>1.291976</td>\n      <td>1.252970</td>\n      <td>207635</td>\n      <td>163953</td>\n      <td>149117</td>\n      <td>119178</td>\n      <td>174545</td>\n      <td>164215</td>\n      <td>145901</td>\n      <td>112692</td>\n    </tr>\n    <tr>\n      <th>Alabama</th>\n      <td>2004</td>\n      <td>82.78710</td>\n      <td>83.54853</td>\n      <td>83.22166</td>\n      <td>83.73943</td>\n      <td>85.77566</td>\n      <td>86.11910</td>\n      <td>87.28502</td>\n      <td>87.53855</td>\n      <td>73.67553</td>\n      <td>...</td>\n      <td>0.937085</td>\n      <td>0.901302</td>\n      <td>209570</td>\n      <td>166413</td>\n      <td>149730</td>\n      <td>122762</td>\n      <td>175617</td>\n      <td>165009</td>\n      <td>147526</td>\n      <td>115676</td>\n    </tr>\n    <tr>\n      <th>Alabama</th>\n      <td>2005</td>\n      <td>81.99500</td>\n      <td>82.79951</td>\n      <td>84.92139</td>\n      <td>85.40220</td>\n      <td>86.13605</td>\n      <td>86.47382</td>\n      <td>87.65756</td>\n      <td>87.89859</td>\n      <td>74.46228</td>\n      <td>...</td>\n      <td>1.133858</td>\n      <td>1.095498</td>\n      <td>209463</td>\n      <td>167581</td>\n      <td>151420</td>\n      <td>126151</td>\n      <td>174581</td>\n      <td>166114</td>\n      <td>148807</td>\n      <td>119517</td>\n    </tr>\n  </tbody>\n</table>\n<p>5 rows × 41 columns</p>\n</div>"
     },
     "metadata": {},
     "execution_count": 34
    }
   ],
   "source": [
    "source = pd.read_csv(fn[2])\n",
    "source = source.drop(columns=[\"stateabbrv\",\"st\"]).set_index('statename')\n",
    "source.head()"
   ]
  },
  {
   "cell_type": "code",
   "execution_count": 40,
   "metadata": {},
   "outputs": [
    {
     "output_type": "execute_result",
     "data": {
      "text/plain": [
       "           year  le_agg_q1_F  le_raceadj_q1_F  le_agg_q2_F  le_raceadj_q2_F  \\\n",
       "statename                                                                     \n",
       "Alabama    2001     80.97743         81.73687     83.79784         84.27046   \n",
       "Alabama    2002     81.55089         82.29413     85.19556         85.62631   \n",
       "Alabama    2003     80.66910         81.44639     84.45503         84.91285   \n",
       "Alabama    2004     82.78710         83.54853     83.22166         83.73943   \n",
       "Alabama    2005     81.99500         82.79951     84.92139         85.40220   \n",
       "Alabama    2006     83.28588         84.08262     85.27169         85.74873   \n",
       "Alabama    2007     83.27286         84.08828     85.84858         86.32239   \n",
       "Alabama    2008     82.83587         83.73382     85.33945         85.86448   \n",
       "Alabama    2009     81.35422         82.34500     84.87272         85.43463   \n",
       "Alabama    2010     83.31232         84.25678     85.19936         85.76780   \n",
       "Alabama    2011     83.03326         84.01485     86.13215         86.66627   \n",
       "Alabama    2012     82.63778         83.65572     84.94592         85.55633   \n",
       "Alabama    2013     82.26195         83.32560     85.24842         85.85410   \n",
       "Alabama    2014     82.55949         83.60840     85.62687         86.21530   \n",
       "\n",
       "           le_agg_q3_F  le_raceadj_q3_F  le_agg_q4_F  le_raceadj_q4_F  \\\n",
       "statename                                                               \n",
       "Alabama       85.22591         85.57561     86.63757         86.91793   \n",
       "Alabama       86.95560         87.24429     85.93871         86.24170   \n",
       "Alabama       84.41888         84.79807     87.63429         87.87489   \n",
       "Alabama       85.77566         86.11910     87.28502         87.53855   \n",
       "Alabama       86.13605         86.47382     87.65756         87.89859   \n",
       "Alabama       85.88442         86.24054     86.51218         86.80058   \n",
       "Alabama       87.09906         87.41866     85.72547         86.04807   \n",
       "Alabama       85.89400         86.27748     88.87307         89.07434   \n",
       "Alabama       87.53564         87.85999     87.77538         88.03273   \n",
       "Alabama       87.27370         87.62148     88.36810         88.60237   \n",
       "Alabama       87.80878         88.13795     86.60144         86.91743   \n",
       "Alabama       88.08359         88.40367     88.06422         88.31585   \n",
       "Alabama       88.15127         88.47634     87.02260         87.32621   \n",
       "Alabama       87.12855         87.50069     88.12717         88.37797   \n",
       "\n",
       "           le_agg_q1_M  ...  sd_le_agg_q4_M  sd_le_raceadj_q4_M  count_q1_F  \\\n",
       "statename               ...                                                   \n",
       "Alabama       73.85774  ...        1.277105            1.238102      194089   \n",
       "Alabama       73.57462  ...        1.313188            1.272126      204031   \n",
       "Alabama       75.40674  ...        1.291976            1.252970      207635   \n",
       "Alabama       73.67553  ...        0.937085            0.901302      209570   \n",
       "Alabama       74.46228  ...        1.133858            1.095498      209463   \n",
       "Alabama       74.94566  ...        1.180069            1.140930      212145   \n",
       "Alabama       74.35318  ...        1.265098            1.222317      214855   \n",
       "Alabama       74.64288  ...        1.142038            1.100468      216883   \n",
       "Alabama       73.70947  ...        1.237721            1.194699      223153   \n",
       "Alabama       74.05884  ...        1.144057            1.102009      217680   \n",
       "Alabama       75.23126  ...        1.148677            1.104369      214768   \n",
       "Alabama       74.74320  ...        1.128970            1.083240      212421   \n",
       "Alabama       74.63306  ...        1.120128            1.071420      211866   \n",
       "Alabama       75.29585  ...        0.904080            0.861175      202399   \n",
       "\n",
       "           count_q2_F  count_q3_F  count_q4_F  count_q1_M  count_q2_M  \\\n",
       "statename                                                               \n",
       "Alabama        158475      147619      120205      165515      160929   \n",
       "Alabama        162615      148026      116868      172638      163867   \n",
       "Alabama        163953      149117      119178      174545      164215   \n",
       "Alabama        166413      149730      122762      175617      165009   \n",
       "Alabama        167581      151420      126151      174581      166114   \n",
       "Alabama        169968      152990      127068      176862      167986   \n",
       "Alabama        171469      154516      129359      178491      168898   \n",
       "Alabama        173564      156158      131361      179441      170122   \n",
       "Alabama        177569      160521      134806      185501      173401   \n",
       "Alabama        176894      160147      135772      181890      171624   \n",
       "Alabama        176507      159259      135632      179891      169612   \n",
       "Alabama        176200      159113      136347      177669      168978   \n",
       "Alabama        177250      158010      132893      182139      170724   \n",
       "Alabama        173981      151057      128062      173448      165816   \n",
       "\n",
       "           count_q3_M  count_q4_M  \n",
       "statename                          \n",
       "Alabama        143569      113529  \n",
       "Alabama        145058      110186  \n",
       "Alabama        145901      112692  \n",
       "Alabama        147526      115676  \n",
       "Alabama        148807      119517  \n",
       "Alabama        150107      120803  \n",
       "Alabama        152387      123052  \n",
       "Alabama        154409      125231  \n",
       "Alabama        158312      128004  \n",
       "Alabama        158121      129129  \n",
       "Alabama        157148      128565  \n",
       "Alabama        158118      129370  \n",
       "Alabama        156551      125406  \n",
       "Alabama        151580      119775  \n",
       "\n",
       "[14 rows x 41 columns]"
      ],
      "text/html": "<div>\n<style scoped>\n    .dataframe tbody tr th:only-of-type {\n        vertical-align: middle;\n    }\n\n    .dataframe tbody tr th {\n        vertical-align: top;\n    }\n\n    .dataframe thead th {\n        text-align: right;\n    }\n</style>\n<table border=\"1\" class=\"dataframe\">\n  <thead>\n    <tr style=\"text-align: right;\">\n      <th></th>\n      <th>year</th>\n      <th>le_agg_q1_F</th>\n      <th>le_raceadj_q1_F</th>\n      <th>le_agg_q2_F</th>\n      <th>le_raceadj_q2_F</th>\n      <th>le_agg_q3_F</th>\n      <th>le_raceadj_q3_F</th>\n      <th>le_agg_q4_F</th>\n      <th>le_raceadj_q4_F</th>\n      <th>le_agg_q1_M</th>\n      <th>...</th>\n      <th>sd_le_agg_q4_M</th>\n      <th>sd_le_raceadj_q4_M</th>\n      <th>count_q1_F</th>\n      <th>count_q2_F</th>\n      <th>count_q3_F</th>\n      <th>count_q4_F</th>\n      <th>count_q1_M</th>\n      <th>count_q2_M</th>\n      <th>count_q3_M</th>\n      <th>count_q4_M</th>\n    </tr>\n    <tr>\n      <th>statename</th>\n      <th></th>\n      <th></th>\n      <th></th>\n      <th></th>\n      <th></th>\n      <th></th>\n      <th></th>\n      <th></th>\n      <th></th>\n      <th></th>\n      <th></th>\n      <th></th>\n      <th></th>\n      <th></th>\n      <th></th>\n      <th></th>\n      <th></th>\n      <th></th>\n      <th></th>\n      <th></th>\n      <th></th>\n    </tr>\n  </thead>\n  <tbody>\n    <tr>\n      <th>Alabama</th>\n      <td>2001</td>\n      <td>80.97743</td>\n      <td>81.73687</td>\n      <td>83.79784</td>\n      <td>84.27046</td>\n      <td>85.22591</td>\n      <td>85.57561</td>\n      <td>86.63757</td>\n      <td>86.91793</td>\n      <td>73.85774</td>\n      <td>...</td>\n      <td>1.277105</td>\n      <td>1.238102</td>\n      <td>194089</td>\n      <td>158475</td>\n      <td>147619</td>\n      <td>120205</td>\n      <td>165515</td>\n      <td>160929</td>\n      <td>143569</td>\n      <td>113529</td>\n    </tr>\n    <tr>\n      <th>Alabama</th>\n      <td>2002</td>\n      <td>81.55089</td>\n      <td>82.29413</td>\n      <td>85.19556</td>\n      <td>85.62631</td>\n      <td>86.95560</td>\n      <td>87.24429</td>\n      <td>85.93871</td>\n      <td>86.24170</td>\n      <td>73.57462</td>\n      <td>...</td>\n      <td>1.313188</td>\n      <td>1.272126</td>\n      <td>204031</td>\n      <td>162615</td>\n      <td>148026</td>\n      <td>116868</td>\n      <td>172638</td>\n      <td>163867</td>\n      <td>145058</td>\n      <td>110186</td>\n    </tr>\n    <tr>\n      <th>Alabama</th>\n      <td>2003</td>\n      <td>80.66910</td>\n      <td>81.44639</td>\n      <td>84.45503</td>\n      <td>84.91285</td>\n      <td>84.41888</td>\n      <td>84.79807</td>\n      <td>87.63429</td>\n      <td>87.87489</td>\n      <td>75.40674</td>\n      <td>...</td>\n      <td>1.291976</td>\n      <td>1.252970</td>\n      <td>207635</td>\n      <td>163953</td>\n      <td>149117</td>\n      <td>119178</td>\n      <td>174545</td>\n      <td>164215</td>\n      <td>145901</td>\n      <td>112692</td>\n    </tr>\n    <tr>\n      <th>Alabama</th>\n      <td>2004</td>\n      <td>82.78710</td>\n      <td>83.54853</td>\n      <td>83.22166</td>\n      <td>83.73943</td>\n      <td>85.77566</td>\n      <td>86.11910</td>\n      <td>87.28502</td>\n      <td>87.53855</td>\n      <td>73.67553</td>\n      <td>...</td>\n      <td>0.937085</td>\n      <td>0.901302</td>\n      <td>209570</td>\n      <td>166413</td>\n      <td>149730</td>\n      <td>122762</td>\n      <td>175617</td>\n      <td>165009</td>\n      <td>147526</td>\n      <td>115676</td>\n    </tr>\n    <tr>\n      <th>Alabama</th>\n      <td>2005</td>\n      <td>81.99500</td>\n      <td>82.79951</td>\n      <td>84.92139</td>\n      <td>85.40220</td>\n      <td>86.13605</td>\n      <td>86.47382</td>\n      <td>87.65756</td>\n      <td>87.89859</td>\n      <td>74.46228</td>\n      <td>...</td>\n      <td>1.133858</td>\n      <td>1.095498</td>\n      <td>209463</td>\n      <td>167581</td>\n      <td>151420</td>\n      <td>126151</td>\n      <td>174581</td>\n      <td>166114</td>\n      <td>148807</td>\n      <td>119517</td>\n    </tr>\n    <tr>\n      <th>Alabama</th>\n      <td>2006</td>\n      <td>83.28588</td>\n      <td>84.08262</td>\n      <td>85.27169</td>\n      <td>85.74873</td>\n      <td>85.88442</td>\n      <td>86.24054</td>\n      <td>86.51218</td>\n      <td>86.80058</td>\n      <td>74.94566</td>\n      <td>...</td>\n      <td>1.180069</td>\n      <td>1.140930</td>\n      <td>212145</td>\n      <td>169968</td>\n      <td>152990</td>\n      <td>127068</td>\n      <td>176862</td>\n      <td>167986</td>\n      <td>150107</td>\n      <td>120803</td>\n    </tr>\n    <tr>\n      <th>Alabama</th>\n      <td>2007</td>\n      <td>83.27286</td>\n      <td>84.08828</td>\n      <td>85.84858</td>\n      <td>86.32239</td>\n      <td>87.09906</td>\n      <td>87.41866</td>\n      <td>85.72547</td>\n      <td>86.04807</td>\n      <td>74.35318</td>\n      <td>...</td>\n      <td>1.265098</td>\n      <td>1.222317</td>\n      <td>214855</td>\n      <td>171469</td>\n      <td>154516</td>\n      <td>129359</td>\n      <td>178491</td>\n      <td>168898</td>\n      <td>152387</td>\n      <td>123052</td>\n    </tr>\n    <tr>\n      <th>Alabama</th>\n      <td>2008</td>\n      <td>82.83587</td>\n      <td>83.73382</td>\n      <td>85.33945</td>\n      <td>85.86448</td>\n      <td>85.89400</td>\n      <td>86.27748</td>\n      <td>88.87307</td>\n      <td>89.07434</td>\n      <td>74.64288</td>\n      <td>...</td>\n      <td>1.142038</td>\n      <td>1.100468</td>\n      <td>216883</td>\n      <td>173564</td>\n      <td>156158</td>\n      <td>131361</td>\n      <td>179441</td>\n      <td>170122</td>\n      <td>154409</td>\n      <td>125231</td>\n    </tr>\n    <tr>\n      <th>Alabama</th>\n      <td>2009</td>\n      <td>81.35422</td>\n      <td>82.34500</td>\n      <td>84.87272</td>\n      <td>85.43463</td>\n      <td>87.53564</td>\n      <td>87.85999</td>\n      <td>87.77538</td>\n      <td>88.03273</td>\n      <td>73.70947</td>\n      <td>...</td>\n      <td>1.237721</td>\n      <td>1.194699</td>\n      <td>223153</td>\n      <td>177569</td>\n      <td>160521</td>\n      <td>134806</td>\n      <td>185501</td>\n      <td>173401</td>\n      <td>158312</td>\n      <td>128004</td>\n    </tr>\n    <tr>\n      <th>Alabama</th>\n      <td>2010</td>\n      <td>83.31232</td>\n      <td>84.25678</td>\n      <td>85.19936</td>\n      <td>85.76780</td>\n      <td>87.27370</td>\n      <td>87.62148</td>\n      <td>88.36810</td>\n      <td>88.60237</td>\n      <td>74.05884</td>\n      <td>...</td>\n      <td>1.144057</td>\n      <td>1.102009</td>\n      <td>217680</td>\n      <td>176894</td>\n      <td>160147</td>\n      <td>135772</td>\n      <td>181890</td>\n      <td>171624</td>\n      <td>158121</td>\n      <td>129129</td>\n    </tr>\n    <tr>\n      <th>Alabama</th>\n      <td>2011</td>\n      <td>83.03326</td>\n      <td>84.01485</td>\n      <td>86.13215</td>\n      <td>86.66627</td>\n      <td>87.80878</td>\n      <td>88.13795</td>\n      <td>86.60144</td>\n      <td>86.91743</td>\n      <td>75.23126</td>\n      <td>...</td>\n      <td>1.148677</td>\n      <td>1.104369</td>\n      <td>214768</td>\n      <td>176507</td>\n      <td>159259</td>\n      <td>135632</td>\n      <td>179891</td>\n      <td>169612</td>\n      <td>157148</td>\n      <td>128565</td>\n    </tr>\n    <tr>\n      <th>Alabama</th>\n      <td>2012</td>\n      <td>82.63778</td>\n      <td>83.65572</td>\n      <td>84.94592</td>\n      <td>85.55633</td>\n      <td>88.08359</td>\n      <td>88.40367</td>\n      <td>88.06422</td>\n      <td>88.31585</td>\n      <td>74.74320</td>\n      <td>...</td>\n      <td>1.128970</td>\n      <td>1.083240</td>\n      <td>212421</td>\n      <td>176200</td>\n      <td>159113</td>\n      <td>136347</td>\n      <td>177669</td>\n      <td>168978</td>\n      <td>158118</td>\n      <td>129370</td>\n    </tr>\n    <tr>\n      <th>Alabama</th>\n      <td>2013</td>\n      <td>82.26195</td>\n      <td>83.32560</td>\n      <td>85.24842</td>\n      <td>85.85410</td>\n      <td>88.15127</td>\n      <td>88.47634</td>\n      <td>87.02260</td>\n      <td>87.32621</td>\n      <td>74.63306</td>\n      <td>...</td>\n      <td>1.120128</td>\n      <td>1.071420</td>\n      <td>211866</td>\n      <td>177250</td>\n      <td>158010</td>\n      <td>132893</td>\n      <td>182139</td>\n      <td>170724</td>\n      <td>156551</td>\n      <td>125406</td>\n    </tr>\n    <tr>\n      <th>Alabama</th>\n      <td>2014</td>\n      <td>82.55949</td>\n      <td>83.60840</td>\n      <td>85.62687</td>\n      <td>86.21530</td>\n      <td>87.12855</td>\n      <td>87.50069</td>\n      <td>88.12717</td>\n      <td>88.37797</td>\n      <td>75.29585</td>\n      <td>...</td>\n      <td>0.904080</td>\n      <td>0.861175</td>\n      <td>202399</td>\n      <td>173981</td>\n      <td>151057</td>\n      <td>128062</td>\n      <td>173448</td>\n      <td>165816</td>\n      <td>151580</td>\n      <td>119775</td>\n    </tr>\n  </tbody>\n</table>\n<p>14 rows × 41 columns</p>\n</div>"
     },
     "metadata": {},
     "execution_count": 40
    }
   ],
   "source": [
    "\n",
    "source[source.index == 'Alabama']"
   ]
  },
  {
   "cell_type": "code",
   "execution_count": 29,
   "metadata": {},
   "outputs": [],
   "source": [
    "# https://altair-viz.github.io/gallery/airports_count.html"
   ]
  },
  {
   "cell_type": "code",
   "execution_count": 8,
   "metadata": {},
   "outputs": [],
   "source": [
    "#US State Background\n",
    "states = alt.topo_feature(data.us_10m.url, feature ='states')\n",
    "Background = alt.Chart(states).mark_geoshape(\n",
    "    fill = 'lightgray',\n",
    "    stroke = 'white'\n",
    ").properties(\n",
    "    width=500,\n",
    "    height=300\n",
    ").project('albersUsa')"
   ]
  },
  {
   "cell_type": "code",
   "execution_count": 9,
   "metadata": {},
   "outputs": [
    {
     "output_type": "execute_result",
     "data": {
      "text/html": "\n<div id=\"altair-viz-2b295a16f4df43b28a3a729e892e5182\"></div>\n<script type=\"text/javascript\">\n  (function(spec, embedOpt){\n    let outputDiv = document.currentScript.previousElementSibling;\n    if (outputDiv.id !== \"altair-viz-2b295a16f4df43b28a3a729e892e5182\") {\n      outputDiv = document.getElementById(\"altair-viz-2b295a16f4df43b28a3a729e892e5182\");\n    }\n    const paths = {\n      \"vega\": \"https://cdn.jsdelivr.net/npm//vega@5?noext\",\n      \"vega-lib\": \"https://cdn.jsdelivr.net/npm//vega-lib?noext\",\n      \"vega-lite\": \"https://cdn.jsdelivr.net/npm//vega-lite@4.8.1?noext\",\n      \"vega-embed\": \"https://cdn.jsdelivr.net/npm//vega-embed@6?noext\",\n    };\n\n    function loadScript(lib) {\n      return new Promise(function(resolve, reject) {\n        var s = document.createElement('script');\n        s.src = paths[lib];\n        s.async = true;\n        s.onload = () => resolve(paths[lib]);\n        s.onerror = () => reject(`Error loading script: ${paths[lib]}`);\n        document.getElementsByTagName(\"head\")[0].appendChild(s);\n      });\n    }\n\n    function showError(err) {\n      outputDiv.innerHTML = `<div class=\"error\" style=\"color:red;\">${err}</div>`;\n      throw err;\n    }\n\n    function displayChart(vegaEmbed) {\n      vegaEmbed(outputDiv, spec, embedOpt)\n        .catch(err => showError(`Javascript Error: ${err.message}<br>This usually means there's a typo in your chart specification. See the javascript console for the full traceback.`));\n    }\n\n    if(typeof define === \"function\" && define.amd) {\n      requirejs.config({paths});\n      require([\"vega-embed\"], displayChart, err => showError(`Error loading script: ${err.message}`));\n    } else if (typeof vegaEmbed === \"function\") {\n      displayChart(vegaEmbed);\n    } else {\n      loadScript(\"vega\")\n        .then(() => loadScript(\"vega-lite\"))\n        .then(() => loadScript(\"vega-embed\"))\n        .catch(showError)\n        .then(() => displayChart(vegaEmbed));\n    }\n  })({\"config\": {\"view\": {\"continuousWidth\": 400, \"continuousHeight\": 300}}, \"data\": {\"url\": \"https://cdn.jsdelivr.net/npm/vega-datasets@v1.29.0/data/us-10m.json\", \"format\": {\"feature\": \"states\", \"type\": \"topojson\"}}, \"mark\": {\"type\": \"geoshape\", \"fill\": \"lightgray\", \"stroke\": \"white\"}, \"height\": 300, \"projection\": {\"type\": \"albersUsa\"}, \"width\": 500, \"$schema\": \"https://vega.github.io/schema/vega-lite/v4.8.1.json\"}, {\"mode\": \"vega-lite\"});\n</script>",
      "text/plain": [
       "alt.Chart(...)"
      ]
     },
     "metadata": {},
     "execution_count": 9
    }
   ],
   "source": [
    "Background"
   ]
  },
  {
   "cell_type": "code",
   "execution_count": null,
   "metadata": {},
   "outputs": [],
   "source": []
  }
 ]
}