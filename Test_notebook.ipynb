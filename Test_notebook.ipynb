{
 "metadata": {
  "language_info": {
   "codemirror_mode": {
    "name": "ipython",
    "version": 3
   },
   "file_extension": ".py",
   "mimetype": "text/x-python",
   "name": "python",
   "nbconvert_exporter": "python",
   "pygments_lexer": "ipython3",
   "version": "3.8.5-final"
  },
  "orig_nbformat": 2,
  "kernelspec": {
   "name": "python3",
   "display_name": "Python 3.8.5 64-bit (conda)",
   "metadata": {
    "interpreter": {
     "hash": "46ec68e1ef3ae8d16cd943bf7c63187aed798444c361676ba542fc16a3febfad"
    }
   }
  }
 },
 "nbformat": 4,
 "nbformat_minor": 2,
 "cells": [
  {
   "cell_type": "code",
   "execution_count": 1,
   "metadata": {},
   "outputs": [],
   "source": [
    "import pandas as pd\n",
    "import numpy as np\n",
    "import fnmatch \n",
    "import os\n",
    "import altair as alt\n",
    "from vega_datasets import data"
   ]
  },
  {
   "cell_type": "code",
   "execution_count": 2,
   "metadata": {},
   "outputs": [],
   "source": [
    "# https://realpython.com/working-with-files-in-python/"
   ]
  },
  {
   "cell_type": "code",
   "execution_count": 3,
   "metadata": {},
   "outputs": [
    {
     "output_type": "execute_result",
     "data": {
      "text/plain": [
       "['Dataset\\\\health_ineq_online_table_2.csv',\n",
       " 'Dataset\\\\health_ineq_online_table_4.csv',\n",
       " 'Dataset\\\\health_ineq_online_table_5.csv',\n",
       " 'Dataset\\\\mrc_table4.csv']"
      ]
     },
     "metadata": {},
     "execution_count": 3
    }
   ],
   "source": [
    "\n",
    "fn = list()\n",
    "\n",
    "for filename in os.listdir(\"Dataset\"):\n",
    "    if fnmatch.fnmatch(filename,'*.csv'):\n",
    "        fn.append(\"Dataset\\\\\" + filename)\n",
    "fn "
   ]
  },
  {
   "cell_type": "code",
   "execution_count": 4,
   "metadata": {},
   "outputs": [
    {
     "output_type": "execute_result",
     "data": {
      "text/plain": [
       "   st stateabbrv statename  year  le_agg_q1_F  le_raceadj_q1_F  le_agg_q2_F  \\\n",
       "0   1         AL   Alabama  2001     80.97743         81.73687     83.79784   \n",
       "1   1         AL   Alabama  2002     81.55089         82.29413     85.19556   \n",
       "2   1         AL   Alabama  2003     80.66910         81.44639     84.45503   \n",
       "3   1         AL   Alabama  2004     82.78710         83.54853     83.22166   \n",
       "4   1         AL   Alabama  2005     81.99500         82.79951     84.92139   \n",
       "\n",
       "   le_raceadj_q2_F  le_agg_q3_F  le_raceadj_q3_F  ...  sd_le_agg_q4_M  \\\n",
       "0         84.27046     85.22591         85.57561  ...        1.277105   \n",
       "1         85.62631     86.95560         87.24429  ...        1.313188   \n",
       "2         84.91285     84.41888         84.79807  ...        1.291976   \n",
       "3         83.73943     85.77566         86.11910  ...        0.937085   \n",
       "4         85.40220     86.13605         86.47382  ...        1.133858   \n",
       "\n",
       "   sd_le_raceadj_q4_M  count_q1_F  count_q2_F  count_q3_F  count_q4_F  \\\n",
       "0            1.238102      194089      158475      147619      120205   \n",
       "1            1.272126      204031      162615      148026      116868   \n",
       "2            1.252970      207635      163953      149117      119178   \n",
       "3            0.901302      209570      166413      149730      122762   \n",
       "4            1.095498      209463      167581      151420      126151   \n",
       "\n",
       "   count_q1_M  count_q2_M  count_q3_M  count_q4_M  \n",
       "0      165515      160929      143569      113529  \n",
       "1      172638      163867      145058      110186  \n",
       "2      174545      164215      145901      112692  \n",
       "3      175617      165009      147526      115676  \n",
       "4      174581      166114      148807      119517  \n",
       "\n",
       "[5 rows x 44 columns]"
      ],
      "text/html": "<div>\n<style scoped>\n    .dataframe tbody tr th:only-of-type {\n        vertical-align: middle;\n    }\n\n    .dataframe tbody tr th {\n        vertical-align: top;\n    }\n\n    .dataframe thead th {\n        text-align: right;\n    }\n</style>\n<table border=\"1\" class=\"dataframe\">\n  <thead>\n    <tr style=\"text-align: right;\">\n      <th></th>\n      <th>st</th>\n      <th>stateabbrv</th>\n      <th>statename</th>\n      <th>year</th>\n      <th>le_agg_q1_F</th>\n      <th>le_raceadj_q1_F</th>\n      <th>le_agg_q2_F</th>\n      <th>le_raceadj_q2_F</th>\n      <th>le_agg_q3_F</th>\n      <th>le_raceadj_q3_F</th>\n      <th>...</th>\n      <th>sd_le_agg_q4_M</th>\n      <th>sd_le_raceadj_q4_M</th>\n      <th>count_q1_F</th>\n      <th>count_q2_F</th>\n      <th>count_q3_F</th>\n      <th>count_q4_F</th>\n      <th>count_q1_M</th>\n      <th>count_q2_M</th>\n      <th>count_q3_M</th>\n      <th>count_q4_M</th>\n    </tr>\n  </thead>\n  <tbody>\n    <tr>\n      <th>0</th>\n      <td>1</td>\n      <td>AL</td>\n      <td>Alabama</td>\n      <td>2001</td>\n      <td>80.97743</td>\n      <td>81.73687</td>\n      <td>83.79784</td>\n      <td>84.27046</td>\n      <td>85.22591</td>\n      <td>85.57561</td>\n      <td>...</td>\n      <td>1.277105</td>\n      <td>1.238102</td>\n      <td>194089</td>\n      <td>158475</td>\n      <td>147619</td>\n      <td>120205</td>\n      <td>165515</td>\n      <td>160929</td>\n      <td>143569</td>\n      <td>113529</td>\n    </tr>\n    <tr>\n      <th>1</th>\n      <td>1</td>\n      <td>AL</td>\n      <td>Alabama</td>\n      <td>2002</td>\n      <td>81.55089</td>\n      <td>82.29413</td>\n      <td>85.19556</td>\n      <td>85.62631</td>\n      <td>86.95560</td>\n      <td>87.24429</td>\n      <td>...</td>\n      <td>1.313188</td>\n      <td>1.272126</td>\n      <td>204031</td>\n      <td>162615</td>\n      <td>148026</td>\n      <td>116868</td>\n      <td>172638</td>\n      <td>163867</td>\n      <td>145058</td>\n      <td>110186</td>\n    </tr>\n    <tr>\n      <th>2</th>\n      <td>1</td>\n      <td>AL</td>\n      <td>Alabama</td>\n      <td>2003</td>\n      <td>80.66910</td>\n      <td>81.44639</td>\n      <td>84.45503</td>\n      <td>84.91285</td>\n      <td>84.41888</td>\n      <td>84.79807</td>\n      <td>...</td>\n      <td>1.291976</td>\n      <td>1.252970</td>\n      <td>207635</td>\n      <td>163953</td>\n      <td>149117</td>\n      <td>119178</td>\n      <td>174545</td>\n      <td>164215</td>\n      <td>145901</td>\n      <td>112692</td>\n    </tr>\n    <tr>\n      <th>3</th>\n      <td>1</td>\n      <td>AL</td>\n      <td>Alabama</td>\n      <td>2004</td>\n      <td>82.78710</td>\n      <td>83.54853</td>\n      <td>83.22166</td>\n      <td>83.73943</td>\n      <td>85.77566</td>\n      <td>86.11910</td>\n      <td>...</td>\n      <td>0.937085</td>\n      <td>0.901302</td>\n      <td>209570</td>\n      <td>166413</td>\n      <td>149730</td>\n      <td>122762</td>\n      <td>175617</td>\n      <td>165009</td>\n      <td>147526</td>\n      <td>115676</td>\n    </tr>\n    <tr>\n      <th>4</th>\n      <td>1</td>\n      <td>AL</td>\n      <td>Alabama</td>\n      <td>2005</td>\n      <td>81.99500</td>\n      <td>82.79951</td>\n      <td>84.92139</td>\n      <td>85.40220</td>\n      <td>86.13605</td>\n      <td>86.47382</td>\n      <td>...</td>\n      <td>1.133858</td>\n      <td>1.095498</td>\n      <td>209463</td>\n      <td>167581</td>\n      <td>151420</td>\n      <td>126151</td>\n      <td>174581</td>\n      <td>166114</td>\n      <td>148807</td>\n      <td>119517</td>\n    </tr>\n  </tbody>\n</table>\n<p>5 rows × 44 columns</p>\n</div>"
     },
     "metadata": {},
     "execution_count": 4
    }
   ],
   "source": [
    "source = pd.read_csv(fn[2])\n",
    "# source = source.drop(columns=[\"stateabbrv\",\"st\"]).set_index('statename').dropna()\n",
    "# source = source.drop(columns=[\"stateabbrv\",\"st\"]).dropna()\n",
    "# source[\"states\"] = \n",
    "source.head()"
   ]
  },
  {
   "cell_type": "code",
   "execution_count": 5,
   "metadata": {},
   "outputs": [
    {
     "output_type": "execute_result",
     "data": {
      "text/plain": [
       "    st stateabbrv statename  year  le_agg_q1_F  le_raceadj_q1_F  le_agg_q2_F  \\\n",
       "0    1         AL   Alabama  2001     80.97743         81.73687     83.79784   \n",
       "1    1         AL   Alabama  2002     81.55089         82.29413     85.19556   \n",
       "2    1         AL   Alabama  2003     80.66910         81.44639     84.45503   \n",
       "3    1         AL   Alabama  2004     82.78710         83.54853     83.22166   \n",
       "4    1         AL   Alabama  2005     81.99500         82.79951     84.92139   \n",
       "5    1         AL   Alabama  2006     83.28588         84.08262     85.27169   \n",
       "6    1         AL   Alabama  2007     83.27286         84.08828     85.84858   \n",
       "7    1         AL   Alabama  2008     82.83587         83.73382     85.33945   \n",
       "8    1         AL   Alabama  2009     81.35422         82.34500     84.87272   \n",
       "9    1         AL   Alabama  2010     83.31232         84.25678     85.19936   \n",
       "10   1         AL   Alabama  2011     83.03326         84.01485     86.13215   \n",
       "11   1         AL   Alabama  2012     82.63778         83.65572     84.94592   \n",
       "12   1         AL   Alabama  2013     82.26195         83.32560     85.24842   \n",
       "13   1         AL   Alabama  2014     82.55949         83.60840     85.62687   \n",
       "\n",
       "    le_raceadj_q2_F  le_agg_q3_F  le_raceadj_q3_F  ...  sd_le_agg_q4_M  \\\n",
       "0          84.27046     85.22591         85.57561  ...        1.277105   \n",
       "1          85.62631     86.95560         87.24429  ...        1.313188   \n",
       "2          84.91285     84.41888         84.79807  ...        1.291976   \n",
       "3          83.73943     85.77566         86.11910  ...        0.937085   \n",
       "4          85.40220     86.13605         86.47382  ...        1.133858   \n",
       "5          85.74873     85.88442         86.24054  ...        1.180069   \n",
       "6          86.32239     87.09906         87.41866  ...        1.265098   \n",
       "7          85.86448     85.89400         86.27748  ...        1.142038   \n",
       "8          85.43463     87.53564         87.85999  ...        1.237721   \n",
       "9          85.76780     87.27370         87.62148  ...        1.144057   \n",
       "10         86.66627     87.80878         88.13795  ...        1.148677   \n",
       "11         85.55633     88.08359         88.40367  ...        1.128970   \n",
       "12         85.85410     88.15127         88.47634  ...        1.120128   \n",
       "13         86.21530     87.12855         87.50069  ...        0.904080   \n",
       "\n",
       "    sd_le_raceadj_q4_M  count_q1_F  count_q2_F  count_q3_F  count_q4_F  \\\n",
       "0             1.238102      194089      158475      147619      120205   \n",
       "1             1.272126      204031      162615      148026      116868   \n",
       "2             1.252970      207635      163953      149117      119178   \n",
       "3             0.901302      209570      166413      149730      122762   \n",
       "4             1.095498      209463      167581      151420      126151   \n",
       "5             1.140930      212145      169968      152990      127068   \n",
       "6             1.222317      214855      171469      154516      129359   \n",
       "7             1.100468      216883      173564      156158      131361   \n",
       "8             1.194699      223153      177569      160521      134806   \n",
       "9             1.102009      217680      176894      160147      135772   \n",
       "10            1.104369      214768      176507      159259      135632   \n",
       "11            1.083240      212421      176200      159113      136347   \n",
       "12            1.071420      211866      177250      158010      132893   \n",
       "13            0.861175      202399      173981      151057      128062   \n",
       "\n",
       "    count_q1_M  count_q2_M  count_q3_M  count_q4_M  \n",
       "0       165515      160929      143569      113529  \n",
       "1       172638      163867      145058      110186  \n",
       "2       174545      164215      145901      112692  \n",
       "3       175617      165009      147526      115676  \n",
       "4       174581      166114      148807      119517  \n",
       "5       176862      167986      150107      120803  \n",
       "6       178491      168898      152387      123052  \n",
       "7       179441      170122      154409      125231  \n",
       "8       185501      173401      158312      128004  \n",
       "9       181890      171624      158121      129129  \n",
       "10      179891      169612      157148      128565  \n",
       "11      177669      168978      158118      129370  \n",
       "12      182139      170724      156551      125406  \n",
       "13      173448      165816      151580      119775  \n",
       "\n",
       "[14 rows x 44 columns]"
      ],
      "text/html": "<div>\n<style scoped>\n    .dataframe tbody tr th:only-of-type {\n        vertical-align: middle;\n    }\n\n    .dataframe tbody tr th {\n        vertical-align: top;\n    }\n\n    .dataframe thead th {\n        text-align: right;\n    }\n</style>\n<table border=\"1\" class=\"dataframe\">\n  <thead>\n    <tr style=\"text-align: right;\">\n      <th></th>\n      <th>st</th>\n      <th>stateabbrv</th>\n      <th>statename</th>\n      <th>year</th>\n      <th>le_agg_q1_F</th>\n      <th>le_raceadj_q1_F</th>\n      <th>le_agg_q2_F</th>\n      <th>le_raceadj_q2_F</th>\n      <th>le_agg_q3_F</th>\n      <th>le_raceadj_q3_F</th>\n      <th>...</th>\n      <th>sd_le_agg_q4_M</th>\n      <th>sd_le_raceadj_q4_M</th>\n      <th>count_q1_F</th>\n      <th>count_q2_F</th>\n      <th>count_q3_F</th>\n      <th>count_q4_F</th>\n      <th>count_q1_M</th>\n      <th>count_q2_M</th>\n      <th>count_q3_M</th>\n      <th>count_q4_M</th>\n    </tr>\n  </thead>\n  <tbody>\n    <tr>\n      <th>0</th>\n      <td>1</td>\n      <td>AL</td>\n      <td>Alabama</td>\n      <td>2001</td>\n      <td>80.97743</td>\n      <td>81.73687</td>\n      <td>83.79784</td>\n      <td>84.27046</td>\n      <td>85.22591</td>\n      <td>85.57561</td>\n      <td>...</td>\n      <td>1.277105</td>\n      <td>1.238102</td>\n      <td>194089</td>\n      <td>158475</td>\n      <td>147619</td>\n      <td>120205</td>\n      <td>165515</td>\n      <td>160929</td>\n      <td>143569</td>\n      <td>113529</td>\n    </tr>\n    <tr>\n      <th>1</th>\n      <td>1</td>\n      <td>AL</td>\n      <td>Alabama</td>\n      <td>2002</td>\n      <td>81.55089</td>\n      <td>82.29413</td>\n      <td>85.19556</td>\n      <td>85.62631</td>\n      <td>86.95560</td>\n      <td>87.24429</td>\n      <td>...</td>\n      <td>1.313188</td>\n      <td>1.272126</td>\n      <td>204031</td>\n      <td>162615</td>\n      <td>148026</td>\n      <td>116868</td>\n      <td>172638</td>\n      <td>163867</td>\n      <td>145058</td>\n      <td>110186</td>\n    </tr>\n    <tr>\n      <th>2</th>\n      <td>1</td>\n      <td>AL</td>\n      <td>Alabama</td>\n      <td>2003</td>\n      <td>80.66910</td>\n      <td>81.44639</td>\n      <td>84.45503</td>\n      <td>84.91285</td>\n      <td>84.41888</td>\n      <td>84.79807</td>\n      <td>...</td>\n      <td>1.291976</td>\n      <td>1.252970</td>\n      <td>207635</td>\n      <td>163953</td>\n      <td>149117</td>\n      <td>119178</td>\n      <td>174545</td>\n      <td>164215</td>\n      <td>145901</td>\n      <td>112692</td>\n    </tr>\n    <tr>\n      <th>3</th>\n      <td>1</td>\n      <td>AL</td>\n      <td>Alabama</td>\n      <td>2004</td>\n      <td>82.78710</td>\n      <td>83.54853</td>\n      <td>83.22166</td>\n      <td>83.73943</td>\n      <td>85.77566</td>\n      <td>86.11910</td>\n      <td>...</td>\n      <td>0.937085</td>\n      <td>0.901302</td>\n      <td>209570</td>\n      <td>166413</td>\n      <td>149730</td>\n      <td>122762</td>\n      <td>175617</td>\n      <td>165009</td>\n      <td>147526</td>\n      <td>115676</td>\n    </tr>\n    <tr>\n      <th>4</th>\n      <td>1</td>\n      <td>AL</td>\n      <td>Alabama</td>\n      <td>2005</td>\n      <td>81.99500</td>\n      <td>82.79951</td>\n      <td>84.92139</td>\n      <td>85.40220</td>\n      <td>86.13605</td>\n      <td>86.47382</td>\n      <td>...</td>\n      <td>1.133858</td>\n      <td>1.095498</td>\n      <td>209463</td>\n      <td>167581</td>\n      <td>151420</td>\n      <td>126151</td>\n      <td>174581</td>\n      <td>166114</td>\n      <td>148807</td>\n      <td>119517</td>\n    </tr>\n    <tr>\n      <th>5</th>\n      <td>1</td>\n      <td>AL</td>\n      <td>Alabama</td>\n      <td>2006</td>\n      <td>83.28588</td>\n      <td>84.08262</td>\n      <td>85.27169</td>\n      <td>85.74873</td>\n      <td>85.88442</td>\n      <td>86.24054</td>\n      <td>...</td>\n      <td>1.180069</td>\n      <td>1.140930</td>\n      <td>212145</td>\n      <td>169968</td>\n      <td>152990</td>\n      <td>127068</td>\n      <td>176862</td>\n      <td>167986</td>\n      <td>150107</td>\n      <td>120803</td>\n    </tr>\n    <tr>\n      <th>6</th>\n      <td>1</td>\n      <td>AL</td>\n      <td>Alabama</td>\n      <td>2007</td>\n      <td>83.27286</td>\n      <td>84.08828</td>\n      <td>85.84858</td>\n      <td>86.32239</td>\n      <td>87.09906</td>\n      <td>87.41866</td>\n      <td>...</td>\n      <td>1.265098</td>\n      <td>1.222317</td>\n      <td>214855</td>\n      <td>171469</td>\n      <td>154516</td>\n      <td>129359</td>\n      <td>178491</td>\n      <td>168898</td>\n      <td>152387</td>\n      <td>123052</td>\n    </tr>\n    <tr>\n      <th>7</th>\n      <td>1</td>\n      <td>AL</td>\n      <td>Alabama</td>\n      <td>2008</td>\n      <td>82.83587</td>\n      <td>83.73382</td>\n      <td>85.33945</td>\n      <td>85.86448</td>\n      <td>85.89400</td>\n      <td>86.27748</td>\n      <td>...</td>\n      <td>1.142038</td>\n      <td>1.100468</td>\n      <td>216883</td>\n      <td>173564</td>\n      <td>156158</td>\n      <td>131361</td>\n      <td>179441</td>\n      <td>170122</td>\n      <td>154409</td>\n      <td>125231</td>\n    </tr>\n    <tr>\n      <th>8</th>\n      <td>1</td>\n      <td>AL</td>\n      <td>Alabama</td>\n      <td>2009</td>\n      <td>81.35422</td>\n      <td>82.34500</td>\n      <td>84.87272</td>\n      <td>85.43463</td>\n      <td>87.53564</td>\n      <td>87.85999</td>\n      <td>...</td>\n      <td>1.237721</td>\n      <td>1.194699</td>\n      <td>223153</td>\n      <td>177569</td>\n      <td>160521</td>\n      <td>134806</td>\n      <td>185501</td>\n      <td>173401</td>\n      <td>158312</td>\n      <td>128004</td>\n    </tr>\n    <tr>\n      <th>9</th>\n      <td>1</td>\n      <td>AL</td>\n      <td>Alabama</td>\n      <td>2010</td>\n      <td>83.31232</td>\n      <td>84.25678</td>\n      <td>85.19936</td>\n      <td>85.76780</td>\n      <td>87.27370</td>\n      <td>87.62148</td>\n      <td>...</td>\n      <td>1.144057</td>\n      <td>1.102009</td>\n      <td>217680</td>\n      <td>176894</td>\n      <td>160147</td>\n      <td>135772</td>\n      <td>181890</td>\n      <td>171624</td>\n      <td>158121</td>\n      <td>129129</td>\n    </tr>\n    <tr>\n      <th>10</th>\n      <td>1</td>\n      <td>AL</td>\n      <td>Alabama</td>\n      <td>2011</td>\n      <td>83.03326</td>\n      <td>84.01485</td>\n      <td>86.13215</td>\n      <td>86.66627</td>\n      <td>87.80878</td>\n      <td>88.13795</td>\n      <td>...</td>\n      <td>1.148677</td>\n      <td>1.104369</td>\n      <td>214768</td>\n      <td>176507</td>\n      <td>159259</td>\n      <td>135632</td>\n      <td>179891</td>\n      <td>169612</td>\n      <td>157148</td>\n      <td>128565</td>\n    </tr>\n    <tr>\n      <th>11</th>\n      <td>1</td>\n      <td>AL</td>\n      <td>Alabama</td>\n      <td>2012</td>\n      <td>82.63778</td>\n      <td>83.65572</td>\n      <td>84.94592</td>\n      <td>85.55633</td>\n      <td>88.08359</td>\n      <td>88.40367</td>\n      <td>...</td>\n      <td>1.128970</td>\n      <td>1.083240</td>\n      <td>212421</td>\n      <td>176200</td>\n      <td>159113</td>\n      <td>136347</td>\n      <td>177669</td>\n      <td>168978</td>\n      <td>158118</td>\n      <td>129370</td>\n    </tr>\n    <tr>\n      <th>12</th>\n      <td>1</td>\n      <td>AL</td>\n      <td>Alabama</td>\n      <td>2013</td>\n      <td>82.26195</td>\n      <td>83.32560</td>\n      <td>85.24842</td>\n      <td>85.85410</td>\n      <td>88.15127</td>\n      <td>88.47634</td>\n      <td>...</td>\n      <td>1.120128</td>\n      <td>1.071420</td>\n      <td>211866</td>\n      <td>177250</td>\n      <td>158010</td>\n      <td>132893</td>\n      <td>182139</td>\n      <td>170724</td>\n      <td>156551</td>\n      <td>125406</td>\n    </tr>\n    <tr>\n      <th>13</th>\n      <td>1</td>\n      <td>AL</td>\n      <td>Alabama</td>\n      <td>2014</td>\n      <td>82.55949</td>\n      <td>83.60840</td>\n      <td>85.62687</td>\n      <td>86.21530</td>\n      <td>87.12855</td>\n      <td>87.50069</td>\n      <td>...</td>\n      <td>0.904080</td>\n      <td>0.861175</td>\n      <td>202399</td>\n      <td>173981</td>\n      <td>151057</td>\n      <td>128062</td>\n      <td>173448</td>\n      <td>165816</td>\n      <td>151580</td>\n      <td>119775</td>\n    </tr>\n  </tbody>\n</table>\n<p>14 rows × 44 columns</p>\n</div>"
     },
     "metadata": {},
     "execution_count": 5
    }
   ],
   "source": [
    "\n",
    "source[source['statename'] == \"Alabama\"]"
   ]
  },
  {
   "cell_type": "code",
   "execution_count": 6,
   "metadata": {},
   "outputs": [],
   "source": [
    "# source[\"le_agg_q1_F\"] = source[\"le_agg_q1_F\"]/source[\"le_agg_q1_F\"].max()\n",
    "source[\"state\"] = source[\"stateabbrv\"]\n",
    "airports = data.airports()\n",
    "airports = airports[[\"state\",\"latitude\",\"longitude\"]]\n",
    "state_loc = airports.groupby(['state']).mean()\n",
    "\n",
    "source = source.set_index('state').join(state_loc)\n",
    "\n"
   ]
  },
  {
   "cell_type": "code",
   "execution_count": 7,
   "metadata": {},
   "outputs": [],
   "source": [
    "source[\"index\"] =  list(range(len(source))) \n",
    "source = source.set_index('index')\n",
    "\n"
   ]
  },
  {
   "cell_type": "code",
   "execution_count": 8,
   "metadata": {},
   "outputs": [],
   "source": [
    "source[\"state\"] = source[\"statename\"]\n",
    "source[\"Female, Income: Q1\"] = source[\"le_agg_q1_F\"]\n",
    "source[\"Female, Income: Q2\"] = source[\"le_agg_q2_F\"]\n",
    "source[\"Female, Income: Q3\"] = source[\"le_agg_q3_F\"]\n",
    "source[\"Female, Income: Q4\"] = source[\"le_agg_q4_F\"]"
   ]
  },
  {
   "cell_type": "code",
   "execution_count": 181,
   "metadata": {},
   "outputs": [],
   "source": [
    "#US State Background # https://altair-viz.github.io/gallery/airports_count.html\n",
    "\n",
    "Background = alt.Chart(states).mark_geoshape(\n",
    "    fill = 'lightgray',\n",
    "    stroke = 'black'\n",
    ").properties(\n",
    "    width=500,\n",
    "    height=300\n",
    ").project('albersUsa')"
   ]
  },
  {
   "cell_type": "code",
   "execution_count": 229,
   "metadata": {},
   "outputs": [],
   "source": [
    "\n",
    "states = alt.topo_feature(data.us_10m.url, feature ='states')\n",
    "slider = alt.binding_range(min = source['year'].min(), max = source['year'].max(), step =1)\n",
    "select_year = alt.selection_single(name=\"year\", fields=['year'], bind = slider, init={'year':source['year'].min()})\n",
    "\n",
    "Q = [\"Q1\", \"Q2\",\"Q3\",\"Q4\"]\n",
    "q_drop = alt.binding_select(options=Q)\n",
    "selector = alt.selection_single(name='Q', fields=['Female, Income: Q1','Female, Income: Q2', 'Female, Income: Q4','Female, Income: Q4'], bind =q_drop)"
   ]
  },
  {
   "cell_type": "code",
   "execution_count": 268,
   "metadata": {},
   "outputs": [],
   "source": [
    "base = alt.Chart(source)\n"
   ]
  },
  {
   "cell_type": "code",
   "execution_count": 281,
   "metadata": {},
   "outputs": [
    {
     "output_type": "error",
     "ename": "TypeError",
     "evalue": "value() missing 1 required positional argument: 'value'",
     "traceback": [
      "\u001b[1;31m---------------------------------------------------------------------------\u001b[0m",
      "\u001b[1;31mTypeError\u001b[0m                                 Traceback (most recent call last)",
      "\u001b[1;32m<ipython-input-281-42873f7140d9>\u001b[0m in \u001b[0;36m<module>\u001b[1;34m\u001b[0m\n\u001b[0;32m     29\u001b[0m     \u001b[0mcolor\u001b[0m\u001b[1;33m=\u001b[0m\u001b[0malt\u001b[0m\u001b[1;33m.\u001b[0m\u001b[0mvalue\u001b[0m\u001b[1;33m(\u001b[0m\u001b[1;34m\"salmon\"\u001b[0m\u001b[1;33m)\u001b[0m\u001b[1;33m,\u001b[0m\u001b[1;33m\u001b[0m\u001b[1;33m\u001b[0m\u001b[0m\n\u001b[0;32m     30\u001b[0m     \u001b[0mshape\u001b[0m \u001b[1;33m=\u001b[0m \u001b[0malt\u001b[0m\u001b[1;33m.\u001b[0m\u001b[0mvalue\u001b[0m\u001b[1;33m(\u001b[0m\u001b[1;34m\"diamond\"\u001b[0m\u001b[1;33m)\u001b[0m\u001b[1;33m,\u001b[0m\u001b[1;33m\u001b[0m\u001b[1;33m\u001b[0m\u001b[0m\n\u001b[1;32m---> 31\u001b[1;33m     \u001b[0mlegend\u001b[0m\u001b[1;33m=\u001b[0m\u001b[0malt\u001b[0m\u001b[1;33m.\u001b[0m\u001b[0mvalue\u001b[0m\u001b[1;33m(\u001b[0m\u001b[0mlegend\u001b[0m\u001b[1;33m=\u001b[0m\u001b[0malt\u001b[0m\u001b[1;33m.\u001b[0m\u001b[0mLegend\u001b[0m\u001b[1;33m)\u001b[0m\u001b[1;33m\u001b[0m\u001b[1;33m\u001b[0m\u001b[0m\n\u001b[0m\u001b[0;32m     32\u001b[0m \u001b[1;33m\u001b[0m\u001b[0m\n\u001b[0;32m     33\u001b[0m )\n",
      "\u001b[1;31mTypeError\u001b[0m: value() missing 1 required positional argument: 'value'"
     ]
    }
   ],
   "source": [
    "plot=base.mark_point(filled=True   \n",
    ").encode(\n",
    "    alt.X('year:O', scale = alt.Scale(zero=False) ),\n",
    "    alt.Y('average(Female, Income: Q1):Q', scale = alt.Scale(zero=False)),\n",
    "    color=alt.value(\"salmon\")\n",
    ")\n",
    "\n",
    "plot+=base.mark_point(filled =True   \n",
    ").encode(\n",
    "    alt.X('year:O', scale = alt.Scale(zero=False) ),\n",
    "    alt.Y('average(Female, Income: Q2):Q', scale = alt.Scale(zero=False)),\n",
    "    color=alt.value(\"salmon\"),\n",
    "    shape = alt.value(\"cross\")\n",
    ")\n",
    "\n",
    "plot+=base.mark_point(filled =True  \n",
    ").encode(\n",
    "    alt.X('year:O', scale = alt.Scale(zero=False) ),\n",
    "    alt.Y('average(Female, Income: Q3):Q', scale = alt.Scale(zero=False)),\n",
    "    color=alt.value(\"salmon\"),\n",
    "    shape = alt.value(\"square\")\n",
    ")\n",
    "\n",
    "plot+=base.mark_point(filled=True \n",
    ").encode(\n",
    "    alt.X('year:O', scale = alt.Scale(zero=False) ),\n",
    "    alt.Y('average(Female, Income: Q4):Q', scale = alt.Scale(zero=False), axis=alt.Axis(title='Average Female Age')),\n",
    "    \n",
    "    color=alt.value(\"salmon\"),\n",
    "    shape = alt.value(\"diamond\"),\n",
    "    legend=alt.value(legend=alt.Legend)\n",
    "\n",
    ")\n",
    "\n",
    "plot\n"
   ]
  },
  {
   "cell_type": "code",
   "execution_count": 262,
   "metadata": {},
   "outputs": [],
   "source": [
    "\n",
    "points_Female1 = base.mark_circle().encode(\n",
    "    longitude = \"longitude:Q\",\n",
    "    latitude = \"latitude:Q\",\n",
    "\n",
    "    size = alt.Size(\"Female, Income: Q1:Q\", scale=alt.Scale(zero=False), legend=None),\n",
    "    color = alt.value(\"salmon\"),\n",
    "    tooltip = [\"state:N\",\"Female, Income: Q1:Q\"]\n",
    "  ).add_selection(\n",
    "      select_year,\n",
    "      \n",
    "  ).transform_filter(\n",
    "      select_year   \n",
    "  ).properties(title='Q1')\n",
    "\n",
    "points_Female2 = base.mark_circle().encode(\n",
    "    longitude = \"longitude:Q\",\n",
    "    latitude = \"latitude:Q\",\n",
    "\n",
    "    size = alt.Size(\"Female, Income: Q2:Q\",scale=alt.Scale(zero=False), legend=None),\n",
    "    color = alt.value(\"salmon\"),\n",
    "    tooltip = [\"state:N\",\"Female, Income: Q2:Q\"]\n",
    "  ).add_selection(\n",
    "      select_year\n",
    "      \n",
    "  ).transform_filter(\n",
    "      select_year   \n",
    "  ).properties(title='Q2')\n",
    "\n",
    "points_Female3 = base.mark_circle().encode(\n",
    "    longitude = \"longitude:Q\",\n",
    "    latitude = \"latitude:Q\",\n",
    "\n",
    "    size = alt.Size(\"Female, Income: Q3:Q\",scale=alt.Scale(zero=False), legend=None),\n",
    "    color = alt.value(\"salmon\"),\n",
    "    tooltip = [\"state:N\", \"Female, Income: Q3:Q\"]\n",
    "  ).add_selection(\n",
    "      select_year\n",
    "      \n",
    "  ).transform_filter(\n",
    "      select_year   \n",
    "  ).properties(title='Q3')\n",
    "\n",
    "points_Female4 = base.mark_circle().encode(\n",
    "    longitude = \"longitude:Q\",\n",
    "    latitude = \"latitude:Q\",\n",
    "\n",
    "    size = alt.Size(\"Female, Income: Q4:Q\",scale=alt.Scale(zero=False), legend=None),\n",
    "    color = alt.value(\"salmon\"),\n",
    "    tooltip = [\"state:N\",\"Female, Income: Q4:Q\"]\n",
    "  ).properties(title = '').add_selection(\n",
    "      select_year\n",
    "      \n",
    "  ).transform_filter(\n",
    "      select_year   \n",
    "  ).properties(title='Q4')\n",
    "\n",
    "\n"
   ]
  },
  {
   "cell_type": "code",
   "execution_count": 263,
   "metadata": {},
   "outputs": [
    {
     "output_type": "error",
     "ename": "SchemaValidationError",
     "evalue": "Invalid specification\n\n        altair.vegalite.v4.api.Chart, validating 'required'\n\n        'data' is a required property\n        ",
     "traceback": [
      "\u001b[1;31m---------------------------------------------------------------------------\u001b[0m",
      "\u001b[1;31mSchemaValidationError\u001b[0m                     Traceback (most recent call last)",
      "\u001b[1;32m~\\anaconda3_1\\lib\\site-packages\\altair\\vegalite\\v4\\api.py\u001b[0m in \u001b[0;36mto_dict\u001b[1;34m(self, *args, **kwargs)\u001b[0m\n\u001b[0;32m    380\u001b[0m         \u001b[1;32mif\u001b[0m \u001b[0mdct\u001b[0m \u001b[1;32mis\u001b[0m \u001b[1;32mNone\u001b[0m\u001b[1;33m:\u001b[0m\u001b[1;33m\u001b[0m\u001b[1;33m\u001b[0m\u001b[0m\n\u001b[0;32m    381\u001b[0m             \u001b[0mkwargs\u001b[0m\u001b[1;33m[\u001b[0m\u001b[1;34m\"validate\"\u001b[0m\u001b[1;33m]\u001b[0m \u001b[1;33m=\u001b[0m \u001b[1;34m\"deep\"\u001b[0m\u001b[1;33m\u001b[0m\u001b[1;33m\u001b[0m\u001b[0m\n\u001b[1;32m--> 382\u001b[1;33m             \u001b[0mdct\u001b[0m \u001b[1;33m=\u001b[0m \u001b[0msuper\u001b[0m\u001b[1;33m(\u001b[0m\u001b[0mTopLevelMixin\u001b[0m\u001b[1;33m,\u001b[0m \u001b[0mcopy\u001b[0m\u001b[1;33m)\u001b[0m\u001b[1;33m.\u001b[0m\u001b[0mto_dict\u001b[0m\u001b[1;33m(\u001b[0m\u001b[1;33m*\u001b[0m\u001b[0margs\u001b[0m\u001b[1;33m,\u001b[0m \u001b[1;33m**\u001b[0m\u001b[0mkwargs\u001b[0m\u001b[1;33m)\u001b[0m\u001b[1;33m\u001b[0m\u001b[1;33m\u001b[0m\u001b[0m\n\u001b[0m\u001b[0;32m    383\u001b[0m \u001b[1;33m\u001b[0m\u001b[0m\n\u001b[0;32m    384\u001b[0m         \u001b[1;31m# TODO: following entries are added after validation. Should they be validated?\u001b[0m\u001b[1;33m\u001b[0m\u001b[1;33m\u001b[0m\u001b[1;33m\u001b[0m\u001b[0m\n",
      "\u001b[1;32m~\\anaconda3_1\\lib\\site-packages\\altair\\utils\\schemapi.py\u001b[0m in \u001b[0;36mto_dict\u001b[1;34m(self, validate, ignore, context)\u001b[0m\n\u001b[0;32m    323\u001b[0m             \u001b[0mresult\u001b[0m \u001b[1;33m=\u001b[0m \u001b[0m_todict\u001b[0m\u001b[1;33m(\u001b[0m\u001b[0mself\u001b[0m\u001b[1;33m.\u001b[0m\u001b[0m_args\u001b[0m\u001b[1;33m[\u001b[0m\u001b[1;36m0\u001b[0m\u001b[1;33m]\u001b[0m\u001b[1;33m,\u001b[0m \u001b[0mvalidate\u001b[0m\u001b[1;33m=\u001b[0m\u001b[0msub_validate\u001b[0m\u001b[1;33m,\u001b[0m \u001b[0mcontext\u001b[0m\u001b[1;33m=\u001b[0m\u001b[0mcontext\u001b[0m\u001b[1;33m)\u001b[0m\u001b[1;33m\u001b[0m\u001b[1;33m\u001b[0m\u001b[0m\n\u001b[0;32m    324\u001b[0m         \u001b[1;32melif\u001b[0m \u001b[1;32mnot\u001b[0m \u001b[0mself\u001b[0m\u001b[1;33m.\u001b[0m\u001b[0m_args\u001b[0m\u001b[1;33m:\u001b[0m\u001b[1;33m\u001b[0m\u001b[1;33m\u001b[0m\u001b[0m\n\u001b[1;32m--> 325\u001b[1;33m             result = _todict(\n\u001b[0m\u001b[0;32m    326\u001b[0m                 \u001b[1;33m{\u001b[0m\u001b[0mk\u001b[0m\u001b[1;33m:\u001b[0m \u001b[0mv\u001b[0m \u001b[1;32mfor\u001b[0m \u001b[0mk\u001b[0m\u001b[1;33m,\u001b[0m \u001b[0mv\u001b[0m \u001b[1;32min\u001b[0m \u001b[0mself\u001b[0m\u001b[1;33m.\u001b[0m\u001b[0m_kwds\u001b[0m\u001b[1;33m.\u001b[0m\u001b[0mitems\u001b[0m\u001b[1;33m(\u001b[0m\u001b[1;33m)\u001b[0m \u001b[1;32mif\u001b[0m \u001b[0mk\u001b[0m \u001b[1;32mnot\u001b[0m \u001b[1;32min\u001b[0m \u001b[0mignore\u001b[0m\u001b[1;33m}\u001b[0m\u001b[1;33m,\u001b[0m\u001b[1;33m\u001b[0m\u001b[1;33m\u001b[0m\u001b[0m\n\u001b[0;32m    327\u001b[0m                 \u001b[0mvalidate\u001b[0m\u001b[1;33m=\u001b[0m\u001b[0msub_validate\u001b[0m\u001b[1;33m,\u001b[0m\u001b[1;33m\u001b[0m\u001b[1;33m\u001b[0m\u001b[0m\n",
      "\u001b[1;32m~\\anaconda3_1\\lib\\site-packages\\altair\\utils\\schemapi.py\u001b[0m in \u001b[0;36m_todict\u001b[1;34m(obj, validate, context)\u001b[0m\n\u001b[0;32m     58\u001b[0m         \u001b[1;32mreturn\u001b[0m \u001b[1;33m[\u001b[0m\u001b[0m_todict\u001b[0m\u001b[1;33m(\u001b[0m\u001b[0mv\u001b[0m\u001b[1;33m,\u001b[0m \u001b[0mvalidate\u001b[0m\u001b[1;33m,\u001b[0m \u001b[0mcontext\u001b[0m\u001b[1;33m)\u001b[0m \u001b[1;32mfor\u001b[0m \u001b[0mv\u001b[0m \u001b[1;32min\u001b[0m \u001b[0mobj\u001b[0m\u001b[1;33m]\u001b[0m\u001b[1;33m\u001b[0m\u001b[1;33m\u001b[0m\u001b[0m\n\u001b[0;32m     59\u001b[0m     \u001b[1;32melif\u001b[0m \u001b[0misinstance\u001b[0m\u001b[1;33m(\u001b[0m\u001b[0mobj\u001b[0m\u001b[1;33m,\u001b[0m \u001b[0mdict\u001b[0m\u001b[1;33m)\u001b[0m\u001b[1;33m:\u001b[0m\u001b[1;33m\u001b[0m\u001b[1;33m\u001b[0m\u001b[0m\n\u001b[1;32m---> 60\u001b[1;33m         return {\n\u001b[0m\u001b[0;32m     61\u001b[0m             \u001b[0mk\u001b[0m\u001b[1;33m:\u001b[0m \u001b[0m_todict\u001b[0m\u001b[1;33m(\u001b[0m\u001b[0mv\u001b[0m\u001b[1;33m,\u001b[0m \u001b[0mvalidate\u001b[0m\u001b[1;33m,\u001b[0m \u001b[0mcontext\u001b[0m\u001b[1;33m)\u001b[0m\u001b[1;33m\u001b[0m\u001b[1;33m\u001b[0m\u001b[0m\n\u001b[0;32m     62\u001b[0m             \u001b[1;32mfor\u001b[0m \u001b[0mk\u001b[0m\u001b[1;33m,\u001b[0m \u001b[0mv\u001b[0m \u001b[1;32min\u001b[0m \u001b[0mobj\u001b[0m\u001b[1;33m.\u001b[0m\u001b[0mitems\u001b[0m\u001b[1;33m(\u001b[0m\u001b[1;33m)\u001b[0m\u001b[1;33m\u001b[0m\u001b[1;33m\u001b[0m\u001b[0m\n",
      "\u001b[1;32m~\\anaconda3_1\\lib\\site-packages\\altair\\utils\\schemapi.py\u001b[0m in \u001b[0;36m<dictcomp>\u001b[1;34m(.0)\u001b[0m\n\u001b[0;32m     59\u001b[0m     \u001b[1;32melif\u001b[0m \u001b[0misinstance\u001b[0m\u001b[1;33m(\u001b[0m\u001b[0mobj\u001b[0m\u001b[1;33m,\u001b[0m \u001b[0mdict\u001b[0m\u001b[1;33m)\u001b[0m\u001b[1;33m:\u001b[0m\u001b[1;33m\u001b[0m\u001b[1;33m\u001b[0m\u001b[0m\n\u001b[0;32m     60\u001b[0m         return {\n\u001b[1;32m---> 61\u001b[1;33m             \u001b[0mk\u001b[0m\u001b[1;33m:\u001b[0m \u001b[0m_todict\u001b[0m\u001b[1;33m(\u001b[0m\u001b[0mv\u001b[0m\u001b[1;33m,\u001b[0m \u001b[0mvalidate\u001b[0m\u001b[1;33m,\u001b[0m \u001b[0mcontext\u001b[0m\u001b[1;33m)\u001b[0m\u001b[1;33m\u001b[0m\u001b[1;33m\u001b[0m\u001b[0m\n\u001b[0m\u001b[0;32m     62\u001b[0m             \u001b[1;32mfor\u001b[0m \u001b[0mk\u001b[0m\u001b[1;33m,\u001b[0m \u001b[0mv\u001b[0m \u001b[1;32min\u001b[0m \u001b[0mobj\u001b[0m\u001b[1;33m.\u001b[0m\u001b[0mitems\u001b[0m\u001b[1;33m(\u001b[0m\u001b[1;33m)\u001b[0m\u001b[1;33m\u001b[0m\u001b[1;33m\u001b[0m\u001b[0m\n\u001b[0;32m     63\u001b[0m             \u001b[1;32mif\u001b[0m \u001b[0mv\u001b[0m \u001b[1;32mis\u001b[0m \u001b[1;32mnot\u001b[0m \u001b[0mUndefined\u001b[0m\u001b[1;33m\u001b[0m\u001b[1;33m\u001b[0m\u001b[0m\n",
      "\u001b[1;32m~\\anaconda3_1\\lib\\site-packages\\altair\\utils\\schemapi.py\u001b[0m in \u001b[0;36m_todict\u001b[1;34m(obj, validate, context)\u001b[0m\n\u001b[0;32m     56\u001b[0m         \u001b[1;32mreturn\u001b[0m \u001b[0mobj\u001b[0m\u001b[1;33m.\u001b[0m\u001b[0mto_dict\u001b[0m\u001b[1;33m(\u001b[0m\u001b[0mvalidate\u001b[0m\u001b[1;33m=\u001b[0m\u001b[0mvalidate\u001b[0m\u001b[1;33m,\u001b[0m \u001b[0mcontext\u001b[0m\u001b[1;33m=\u001b[0m\u001b[0mcontext\u001b[0m\u001b[1;33m)\u001b[0m\u001b[1;33m\u001b[0m\u001b[1;33m\u001b[0m\u001b[0m\n\u001b[0;32m     57\u001b[0m     \u001b[1;32melif\u001b[0m \u001b[0misinstance\u001b[0m\u001b[1;33m(\u001b[0m\u001b[0mobj\u001b[0m\u001b[1;33m,\u001b[0m \u001b[1;33m(\u001b[0m\u001b[0mlist\u001b[0m\u001b[1;33m,\u001b[0m \u001b[0mtuple\u001b[0m\u001b[1;33m,\u001b[0m \u001b[0mnp\u001b[0m\u001b[1;33m.\u001b[0m\u001b[0mndarray\u001b[0m\u001b[1;33m)\u001b[0m\u001b[1;33m)\u001b[0m\u001b[1;33m:\u001b[0m\u001b[1;33m\u001b[0m\u001b[1;33m\u001b[0m\u001b[0m\n\u001b[1;32m---> 58\u001b[1;33m         \u001b[1;32mreturn\u001b[0m \u001b[1;33m[\u001b[0m\u001b[0m_todict\u001b[0m\u001b[1;33m(\u001b[0m\u001b[0mv\u001b[0m\u001b[1;33m,\u001b[0m \u001b[0mvalidate\u001b[0m\u001b[1;33m,\u001b[0m \u001b[0mcontext\u001b[0m\u001b[1;33m)\u001b[0m \u001b[1;32mfor\u001b[0m \u001b[0mv\u001b[0m \u001b[1;32min\u001b[0m \u001b[0mobj\u001b[0m\u001b[1;33m]\u001b[0m\u001b[1;33m\u001b[0m\u001b[1;33m\u001b[0m\u001b[0m\n\u001b[0m\u001b[0;32m     59\u001b[0m     \u001b[1;32melif\u001b[0m \u001b[0misinstance\u001b[0m\u001b[1;33m(\u001b[0m\u001b[0mobj\u001b[0m\u001b[1;33m,\u001b[0m \u001b[0mdict\u001b[0m\u001b[1;33m)\u001b[0m\u001b[1;33m:\u001b[0m\u001b[1;33m\u001b[0m\u001b[1;33m\u001b[0m\u001b[0m\n\u001b[0;32m     60\u001b[0m         return {\n",
      "\u001b[1;32m~\\anaconda3_1\\lib\\site-packages\\altair\\utils\\schemapi.py\u001b[0m in \u001b[0;36m<listcomp>\u001b[1;34m(.0)\u001b[0m\n\u001b[0;32m     56\u001b[0m         \u001b[1;32mreturn\u001b[0m \u001b[0mobj\u001b[0m\u001b[1;33m.\u001b[0m\u001b[0mto_dict\u001b[0m\u001b[1;33m(\u001b[0m\u001b[0mvalidate\u001b[0m\u001b[1;33m=\u001b[0m\u001b[0mvalidate\u001b[0m\u001b[1;33m,\u001b[0m \u001b[0mcontext\u001b[0m\u001b[1;33m=\u001b[0m\u001b[0mcontext\u001b[0m\u001b[1;33m)\u001b[0m\u001b[1;33m\u001b[0m\u001b[1;33m\u001b[0m\u001b[0m\n\u001b[0;32m     57\u001b[0m     \u001b[1;32melif\u001b[0m \u001b[0misinstance\u001b[0m\u001b[1;33m(\u001b[0m\u001b[0mobj\u001b[0m\u001b[1;33m,\u001b[0m \u001b[1;33m(\u001b[0m\u001b[0mlist\u001b[0m\u001b[1;33m,\u001b[0m \u001b[0mtuple\u001b[0m\u001b[1;33m,\u001b[0m \u001b[0mnp\u001b[0m\u001b[1;33m.\u001b[0m\u001b[0mndarray\u001b[0m\u001b[1;33m)\u001b[0m\u001b[1;33m)\u001b[0m\u001b[1;33m:\u001b[0m\u001b[1;33m\u001b[0m\u001b[1;33m\u001b[0m\u001b[0m\n\u001b[1;32m---> 58\u001b[1;33m         \u001b[1;32mreturn\u001b[0m \u001b[1;33m[\u001b[0m\u001b[0m_todict\u001b[0m\u001b[1;33m(\u001b[0m\u001b[0mv\u001b[0m\u001b[1;33m,\u001b[0m \u001b[0mvalidate\u001b[0m\u001b[1;33m,\u001b[0m \u001b[0mcontext\u001b[0m\u001b[1;33m)\u001b[0m \u001b[1;32mfor\u001b[0m \u001b[0mv\u001b[0m \u001b[1;32min\u001b[0m \u001b[0mobj\u001b[0m\u001b[1;33m]\u001b[0m\u001b[1;33m\u001b[0m\u001b[1;33m\u001b[0m\u001b[0m\n\u001b[0m\u001b[0;32m     59\u001b[0m     \u001b[1;32melif\u001b[0m \u001b[0misinstance\u001b[0m\u001b[1;33m(\u001b[0m\u001b[0mobj\u001b[0m\u001b[1;33m,\u001b[0m \u001b[0mdict\u001b[0m\u001b[1;33m)\u001b[0m\u001b[1;33m:\u001b[0m\u001b[1;33m\u001b[0m\u001b[1;33m\u001b[0m\u001b[0m\n\u001b[0;32m     60\u001b[0m         return {\n",
      "\u001b[1;32m~\\anaconda3_1\\lib\\site-packages\\altair\\utils\\schemapi.py\u001b[0m in \u001b[0;36m_todict\u001b[1;34m(obj, validate, context)\u001b[0m\n\u001b[0;32m     54\u001b[0m     \u001b[1;34m\"\"\"Convert an object to a dict representation.\"\"\"\u001b[0m\u001b[1;33m\u001b[0m\u001b[1;33m\u001b[0m\u001b[0m\n\u001b[0;32m     55\u001b[0m     \u001b[1;32mif\u001b[0m \u001b[0misinstance\u001b[0m\u001b[1;33m(\u001b[0m\u001b[0mobj\u001b[0m\u001b[1;33m,\u001b[0m \u001b[0mSchemaBase\u001b[0m\u001b[1;33m)\u001b[0m\u001b[1;33m:\u001b[0m\u001b[1;33m\u001b[0m\u001b[1;33m\u001b[0m\u001b[0m\n\u001b[1;32m---> 56\u001b[1;33m         \u001b[1;32mreturn\u001b[0m \u001b[0mobj\u001b[0m\u001b[1;33m.\u001b[0m\u001b[0mto_dict\u001b[0m\u001b[1;33m(\u001b[0m\u001b[0mvalidate\u001b[0m\u001b[1;33m=\u001b[0m\u001b[0mvalidate\u001b[0m\u001b[1;33m,\u001b[0m \u001b[0mcontext\u001b[0m\u001b[1;33m=\u001b[0m\u001b[0mcontext\u001b[0m\u001b[1;33m)\u001b[0m\u001b[1;33m\u001b[0m\u001b[1;33m\u001b[0m\u001b[0m\n\u001b[0m\u001b[0;32m     57\u001b[0m     \u001b[1;32melif\u001b[0m \u001b[0misinstance\u001b[0m\u001b[1;33m(\u001b[0m\u001b[0mobj\u001b[0m\u001b[1;33m,\u001b[0m \u001b[1;33m(\u001b[0m\u001b[0mlist\u001b[0m\u001b[1;33m,\u001b[0m \u001b[0mtuple\u001b[0m\u001b[1;33m,\u001b[0m \u001b[0mnp\u001b[0m\u001b[1;33m.\u001b[0m\u001b[0mndarray\u001b[0m\u001b[1;33m)\u001b[0m\u001b[1;33m)\u001b[0m\u001b[1;33m:\u001b[0m\u001b[1;33m\u001b[0m\u001b[1;33m\u001b[0m\u001b[0m\n\u001b[0;32m     58\u001b[0m         \u001b[1;32mreturn\u001b[0m \u001b[1;33m[\u001b[0m\u001b[0m_todict\u001b[0m\u001b[1;33m(\u001b[0m\u001b[0mv\u001b[0m\u001b[1;33m,\u001b[0m \u001b[0mvalidate\u001b[0m\u001b[1;33m,\u001b[0m \u001b[0mcontext\u001b[0m\u001b[1;33m)\u001b[0m \u001b[1;32mfor\u001b[0m \u001b[0mv\u001b[0m \u001b[1;32min\u001b[0m \u001b[0mobj\u001b[0m\u001b[1;33m]\u001b[0m\u001b[1;33m\u001b[0m\u001b[1;33m\u001b[0m\u001b[0m\n",
      "\u001b[1;32m~\\anaconda3_1\\lib\\site-packages\\altair\\vegalite\\v4\\api.py\u001b[0m in \u001b[0;36mto_dict\u001b[1;34m(self, *args, **kwargs)\u001b[0m\n\u001b[0;32m    380\u001b[0m         \u001b[1;32mif\u001b[0m \u001b[0mdct\u001b[0m \u001b[1;32mis\u001b[0m \u001b[1;32mNone\u001b[0m\u001b[1;33m:\u001b[0m\u001b[1;33m\u001b[0m\u001b[1;33m\u001b[0m\u001b[0m\n\u001b[0;32m    381\u001b[0m             \u001b[0mkwargs\u001b[0m\u001b[1;33m[\u001b[0m\u001b[1;34m\"validate\"\u001b[0m\u001b[1;33m]\u001b[0m \u001b[1;33m=\u001b[0m \u001b[1;34m\"deep\"\u001b[0m\u001b[1;33m\u001b[0m\u001b[1;33m\u001b[0m\u001b[0m\n\u001b[1;32m--> 382\u001b[1;33m             \u001b[0mdct\u001b[0m \u001b[1;33m=\u001b[0m \u001b[0msuper\u001b[0m\u001b[1;33m(\u001b[0m\u001b[0mTopLevelMixin\u001b[0m\u001b[1;33m,\u001b[0m \u001b[0mcopy\u001b[0m\u001b[1;33m)\u001b[0m\u001b[1;33m.\u001b[0m\u001b[0mto_dict\u001b[0m\u001b[1;33m(\u001b[0m\u001b[1;33m*\u001b[0m\u001b[0margs\u001b[0m\u001b[1;33m,\u001b[0m \u001b[1;33m**\u001b[0m\u001b[0mkwargs\u001b[0m\u001b[1;33m)\u001b[0m\u001b[1;33m\u001b[0m\u001b[1;33m\u001b[0m\u001b[0m\n\u001b[0m\u001b[0;32m    383\u001b[0m \u001b[1;33m\u001b[0m\u001b[0m\n\u001b[0;32m    384\u001b[0m         \u001b[1;31m# TODO: following entries are added after validation. Should they be validated?\u001b[0m\u001b[1;33m\u001b[0m\u001b[1;33m\u001b[0m\u001b[1;33m\u001b[0m\u001b[0m\n",
      "\u001b[1;32m~\\anaconda3_1\\lib\\site-packages\\altair\\utils\\schemapi.py\u001b[0m in \u001b[0;36mto_dict\u001b[1;34m(self, validate, ignore, context)\u001b[0m\n\u001b[0;32m    323\u001b[0m             \u001b[0mresult\u001b[0m \u001b[1;33m=\u001b[0m \u001b[0m_todict\u001b[0m\u001b[1;33m(\u001b[0m\u001b[0mself\u001b[0m\u001b[1;33m.\u001b[0m\u001b[0m_args\u001b[0m\u001b[1;33m[\u001b[0m\u001b[1;36m0\u001b[0m\u001b[1;33m]\u001b[0m\u001b[1;33m,\u001b[0m \u001b[0mvalidate\u001b[0m\u001b[1;33m=\u001b[0m\u001b[0msub_validate\u001b[0m\u001b[1;33m,\u001b[0m \u001b[0mcontext\u001b[0m\u001b[1;33m=\u001b[0m\u001b[0mcontext\u001b[0m\u001b[1;33m)\u001b[0m\u001b[1;33m\u001b[0m\u001b[1;33m\u001b[0m\u001b[0m\n\u001b[0;32m    324\u001b[0m         \u001b[1;32melif\u001b[0m \u001b[1;32mnot\u001b[0m \u001b[0mself\u001b[0m\u001b[1;33m.\u001b[0m\u001b[0m_args\u001b[0m\u001b[1;33m:\u001b[0m\u001b[1;33m\u001b[0m\u001b[1;33m\u001b[0m\u001b[0m\n\u001b[1;32m--> 325\u001b[1;33m             result = _todict(\n\u001b[0m\u001b[0;32m    326\u001b[0m                 \u001b[1;33m{\u001b[0m\u001b[0mk\u001b[0m\u001b[1;33m:\u001b[0m \u001b[0mv\u001b[0m \u001b[1;32mfor\u001b[0m \u001b[0mk\u001b[0m\u001b[1;33m,\u001b[0m \u001b[0mv\u001b[0m \u001b[1;32min\u001b[0m \u001b[0mself\u001b[0m\u001b[1;33m.\u001b[0m\u001b[0m_kwds\u001b[0m\u001b[1;33m.\u001b[0m\u001b[0mitems\u001b[0m\u001b[1;33m(\u001b[0m\u001b[1;33m)\u001b[0m \u001b[1;32mif\u001b[0m \u001b[0mk\u001b[0m \u001b[1;32mnot\u001b[0m \u001b[1;32min\u001b[0m \u001b[0mignore\u001b[0m\u001b[1;33m}\u001b[0m\u001b[1;33m,\u001b[0m\u001b[1;33m\u001b[0m\u001b[1;33m\u001b[0m\u001b[0m\n\u001b[0;32m    327\u001b[0m                 \u001b[0mvalidate\u001b[0m\u001b[1;33m=\u001b[0m\u001b[0msub_validate\u001b[0m\u001b[1;33m,\u001b[0m\u001b[1;33m\u001b[0m\u001b[1;33m\u001b[0m\u001b[0m\n",
      "\u001b[1;32m~\\anaconda3_1\\lib\\site-packages\\altair\\utils\\schemapi.py\u001b[0m in \u001b[0;36m_todict\u001b[1;34m(obj, validate, context)\u001b[0m\n\u001b[0;32m     58\u001b[0m         \u001b[1;32mreturn\u001b[0m \u001b[1;33m[\u001b[0m\u001b[0m_todict\u001b[0m\u001b[1;33m(\u001b[0m\u001b[0mv\u001b[0m\u001b[1;33m,\u001b[0m \u001b[0mvalidate\u001b[0m\u001b[1;33m,\u001b[0m \u001b[0mcontext\u001b[0m\u001b[1;33m)\u001b[0m \u001b[1;32mfor\u001b[0m \u001b[0mv\u001b[0m \u001b[1;32min\u001b[0m \u001b[0mobj\u001b[0m\u001b[1;33m]\u001b[0m\u001b[1;33m\u001b[0m\u001b[1;33m\u001b[0m\u001b[0m\n\u001b[0;32m     59\u001b[0m     \u001b[1;32melif\u001b[0m \u001b[0misinstance\u001b[0m\u001b[1;33m(\u001b[0m\u001b[0mobj\u001b[0m\u001b[1;33m,\u001b[0m \u001b[0mdict\u001b[0m\u001b[1;33m)\u001b[0m\u001b[1;33m:\u001b[0m\u001b[1;33m\u001b[0m\u001b[1;33m\u001b[0m\u001b[0m\n\u001b[1;32m---> 60\u001b[1;33m         return {\n\u001b[0m\u001b[0;32m     61\u001b[0m             \u001b[0mk\u001b[0m\u001b[1;33m:\u001b[0m \u001b[0m_todict\u001b[0m\u001b[1;33m(\u001b[0m\u001b[0mv\u001b[0m\u001b[1;33m,\u001b[0m \u001b[0mvalidate\u001b[0m\u001b[1;33m,\u001b[0m \u001b[0mcontext\u001b[0m\u001b[1;33m)\u001b[0m\u001b[1;33m\u001b[0m\u001b[1;33m\u001b[0m\u001b[0m\n\u001b[0;32m     62\u001b[0m             \u001b[1;32mfor\u001b[0m \u001b[0mk\u001b[0m\u001b[1;33m,\u001b[0m \u001b[0mv\u001b[0m \u001b[1;32min\u001b[0m \u001b[0mobj\u001b[0m\u001b[1;33m.\u001b[0m\u001b[0mitems\u001b[0m\u001b[1;33m(\u001b[0m\u001b[1;33m)\u001b[0m\u001b[1;33m\u001b[0m\u001b[1;33m\u001b[0m\u001b[0m\n",
      "\u001b[1;32m~\\anaconda3_1\\lib\\site-packages\\altair\\utils\\schemapi.py\u001b[0m in \u001b[0;36m<dictcomp>\u001b[1;34m(.0)\u001b[0m\n\u001b[0;32m     59\u001b[0m     \u001b[1;32melif\u001b[0m \u001b[0misinstance\u001b[0m\u001b[1;33m(\u001b[0m\u001b[0mobj\u001b[0m\u001b[1;33m,\u001b[0m \u001b[0mdict\u001b[0m\u001b[1;33m)\u001b[0m\u001b[1;33m:\u001b[0m\u001b[1;33m\u001b[0m\u001b[1;33m\u001b[0m\u001b[0m\n\u001b[0;32m     60\u001b[0m         return {\n\u001b[1;32m---> 61\u001b[1;33m             \u001b[0mk\u001b[0m\u001b[1;33m:\u001b[0m \u001b[0m_todict\u001b[0m\u001b[1;33m(\u001b[0m\u001b[0mv\u001b[0m\u001b[1;33m,\u001b[0m \u001b[0mvalidate\u001b[0m\u001b[1;33m,\u001b[0m \u001b[0mcontext\u001b[0m\u001b[1;33m)\u001b[0m\u001b[1;33m\u001b[0m\u001b[1;33m\u001b[0m\u001b[0m\n\u001b[0m\u001b[0;32m     62\u001b[0m             \u001b[1;32mfor\u001b[0m \u001b[0mk\u001b[0m\u001b[1;33m,\u001b[0m \u001b[0mv\u001b[0m \u001b[1;32min\u001b[0m \u001b[0mobj\u001b[0m\u001b[1;33m.\u001b[0m\u001b[0mitems\u001b[0m\u001b[1;33m(\u001b[0m\u001b[1;33m)\u001b[0m\u001b[1;33m\u001b[0m\u001b[1;33m\u001b[0m\u001b[0m\n\u001b[0;32m     63\u001b[0m             \u001b[1;32mif\u001b[0m \u001b[0mv\u001b[0m \u001b[1;32mis\u001b[0m \u001b[1;32mnot\u001b[0m \u001b[0mUndefined\u001b[0m\u001b[1;33m\u001b[0m\u001b[1;33m\u001b[0m\u001b[0m\n",
      "\u001b[1;32m~\\anaconda3_1\\lib\\site-packages\\altair\\utils\\schemapi.py\u001b[0m in \u001b[0;36m_todict\u001b[1;34m(obj, validate, context)\u001b[0m\n\u001b[0;32m     56\u001b[0m         \u001b[1;32mreturn\u001b[0m \u001b[0mobj\u001b[0m\u001b[1;33m.\u001b[0m\u001b[0mto_dict\u001b[0m\u001b[1;33m(\u001b[0m\u001b[0mvalidate\u001b[0m\u001b[1;33m=\u001b[0m\u001b[0mvalidate\u001b[0m\u001b[1;33m,\u001b[0m \u001b[0mcontext\u001b[0m\u001b[1;33m=\u001b[0m\u001b[0mcontext\u001b[0m\u001b[1;33m)\u001b[0m\u001b[1;33m\u001b[0m\u001b[1;33m\u001b[0m\u001b[0m\n\u001b[0;32m     57\u001b[0m     \u001b[1;32melif\u001b[0m \u001b[0misinstance\u001b[0m\u001b[1;33m(\u001b[0m\u001b[0mobj\u001b[0m\u001b[1;33m,\u001b[0m \u001b[1;33m(\u001b[0m\u001b[0mlist\u001b[0m\u001b[1;33m,\u001b[0m \u001b[0mtuple\u001b[0m\u001b[1;33m,\u001b[0m \u001b[0mnp\u001b[0m\u001b[1;33m.\u001b[0m\u001b[0mndarray\u001b[0m\u001b[1;33m)\u001b[0m\u001b[1;33m)\u001b[0m\u001b[1;33m:\u001b[0m\u001b[1;33m\u001b[0m\u001b[1;33m\u001b[0m\u001b[0m\n\u001b[1;32m---> 58\u001b[1;33m         \u001b[1;32mreturn\u001b[0m \u001b[1;33m[\u001b[0m\u001b[0m_todict\u001b[0m\u001b[1;33m(\u001b[0m\u001b[0mv\u001b[0m\u001b[1;33m,\u001b[0m \u001b[0mvalidate\u001b[0m\u001b[1;33m,\u001b[0m \u001b[0mcontext\u001b[0m\u001b[1;33m)\u001b[0m \u001b[1;32mfor\u001b[0m \u001b[0mv\u001b[0m \u001b[1;32min\u001b[0m \u001b[0mobj\u001b[0m\u001b[1;33m]\u001b[0m\u001b[1;33m\u001b[0m\u001b[1;33m\u001b[0m\u001b[0m\n\u001b[0m\u001b[0;32m     59\u001b[0m     \u001b[1;32melif\u001b[0m \u001b[0misinstance\u001b[0m\u001b[1;33m(\u001b[0m\u001b[0mobj\u001b[0m\u001b[1;33m,\u001b[0m \u001b[0mdict\u001b[0m\u001b[1;33m)\u001b[0m\u001b[1;33m:\u001b[0m\u001b[1;33m\u001b[0m\u001b[1;33m\u001b[0m\u001b[0m\n\u001b[0;32m     60\u001b[0m         return {\n",
      "\u001b[1;32m~\\anaconda3_1\\lib\\site-packages\\altair\\utils\\schemapi.py\u001b[0m in \u001b[0;36m<listcomp>\u001b[1;34m(.0)\u001b[0m\n\u001b[0;32m     56\u001b[0m         \u001b[1;32mreturn\u001b[0m \u001b[0mobj\u001b[0m\u001b[1;33m.\u001b[0m\u001b[0mto_dict\u001b[0m\u001b[1;33m(\u001b[0m\u001b[0mvalidate\u001b[0m\u001b[1;33m=\u001b[0m\u001b[0mvalidate\u001b[0m\u001b[1;33m,\u001b[0m \u001b[0mcontext\u001b[0m\u001b[1;33m=\u001b[0m\u001b[0mcontext\u001b[0m\u001b[1;33m)\u001b[0m\u001b[1;33m\u001b[0m\u001b[1;33m\u001b[0m\u001b[0m\n\u001b[0;32m     57\u001b[0m     \u001b[1;32melif\u001b[0m \u001b[0misinstance\u001b[0m\u001b[1;33m(\u001b[0m\u001b[0mobj\u001b[0m\u001b[1;33m,\u001b[0m \u001b[1;33m(\u001b[0m\u001b[0mlist\u001b[0m\u001b[1;33m,\u001b[0m \u001b[0mtuple\u001b[0m\u001b[1;33m,\u001b[0m \u001b[0mnp\u001b[0m\u001b[1;33m.\u001b[0m\u001b[0mndarray\u001b[0m\u001b[1;33m)\u001b[0m\u001b[1;33m)\u001b[0m\u001b[1;33m:\u001b[0m\u001b[1;33m\u001b[0m\u001b[1;33m\u001b[0m\u001b[0m\n\u001b[1;32m---> 58\u001b[1;33m         \u001b[1;32mreturn\u001b[0m \u001b[1;33m[\u001b[0m\u001b[0m_todict\u001b[0m\u001b[1;33m(\u001b[0m\u001b[0mv\u001b[0m\u001b[1;33m,\u001b[0m \u001b[0mvalidate\u001b[0m\u001b[1;33m,\u001b[0m \u001b[0mcontext\u001b[0m\u001b[1;33m)\u001b[0m \u001b[1;32mfor\u001b[0m \u001b[0mv\u001b[0m \u001b[1;32min\u001b[0m \u001b[0mobj\u001b[0m\u001b[1;33m]\u001b[0m\u001b[1;33m\u001b[0m\u001b[1;33m\u001b[0m\u001b[0m\n\u001b[0m\u001b[0;32m     59\u001b[0m     \u001b[1;32melif\u001b[0m \u001b[0misinstance\u001b[0m\u001b[1;33m(\u001b[0m\u001b[0mobj\u001b[0m\u001b[1;33m,\u001b[0m \u001b[0mdict\u001b[0m\u001b[1;33m)\u001b[0m\u001b[1;33m:\u001b[0m\u001b[1;33m\u001b[0m\u001b[1;33m\u001b[0m\u001b[0m\n\u001b[0;32m     60\u001b[0m         return {\n",
      "\u001b[1;32m~\\anaconda3_1\\lib\\site-packages\\altair\\utils\\schemapi.py\u001b[0m in \u001b[0;36m_todict\u001b[1;34m(obj, validate, context)\u001b[0m\n\u001b[0;32m     54\u001b[0m     \u001b[1;34m\"\"\"Convert an object to a dict representation.\"\"\"\u001b[0m\u001b[1;33m\u001b[0m\u001b[1;33m\u001b[0m\u001b[0m\n\u001b[0;32m     55\u001b[0m     \u001b[1;32mif\u001b[0m \u001b[0misinstance\u001b[0m\u001b[1;33m(\u001b[0m\u001b[0mobj\u001b[0m\u001b[1;33m,\u001b[0m \u001b[0mSchemaBase\u001b[0m\u001b[1;33m)\u001b[0m\u001b[1;33m:\u001b[0m\u001b[1;33m\u001b[0m\u001b[1;33m\u001b[0m\u001b[0m\n\u001b[1;32m---> 56\u001b[1;33m         \u001b[1;32mreturn\u001b[0m \u001b[0mobj\u001b[0m\u001b[1;33m.\u001b[0m\u001b[0mto_dict\u001b[0m\u001b[1;33m(\u001b[0m\u001b[0mvalidate\u001b[0m\u001b[1;33m=\u001b[0m\u001b[0mvalidate\u001b[0m\u001b[1;33m,\u001b[0m \u001b[0mcontext\u001b[0m\u001b[1;33m=\u001b[0m\u001b[0mcontext\u001b[0m\u001b[1;33m)\u001b[0m\u001b[1;33m\u001b[0m\u001b[1;33m\u001b[0m\u001b[0m\n\u001b[0m\u001b[0;32m     57\u001b[0m     \u001b[1;32melif\u001b[0m \u001b[0misinstance\u001b[0m\u001b[1;33m(\u001b[0m\u001b[0mobj\u001b[0m\u001b[1;33m,\u001b[0m \u001b[1;33m(\u001b[0m\u001b[0mlist\u001b[0m\u001b[1;33m,\u001b[0m \u001b[0mtuple\u001b[0m\u001b[1;33m,\u001b[0m \u001b[0mnp\u001b[0m\u001b[1;33m.\u001b[0m\u001b[0mndarray\u001b[0m\u001b[1;33m)\u001b[0m\u001b[1;33m)\u001b[0m\u001b[1;33m:\u001b[0m\u001b[1;33m\u001b[0m\u001b[1;33m\u001b[0m\u001b[0m\n\u001b[0;32m     58\u001b[0m         \u001b[1;32mreturn\u001b[0m \u001b[1;33m[\u001b[0m\u001b[0m_todict\u001b[0m\u001b[1;33m(\u001b[0m\u001b[0mv\u001b[0m\u001b[1;33m,\u001b[0m \u001b[0mvalidate\u001b[0m\u001b[1;33m,\u001b[0m \u001b[0mcontext\u001b[0m\u001b[1;33m)\u001b[0m \u001b[1;32mfor\u001b[0m \u001b[0mv\u001b[0m \u001b[1;32min\u001b[0m \u001b[0mobj\u001b[0m\u001b[1;33m]\u001b[0m\u001b[1;33m\u001b[0m\u001b[1;33m\u001b[0m\u001b[0m\n",
      "\u001b[1;32m~\\anaconda3_1\\lib\\site-packages\\altair\\vegalite\\v4\\api.py\u001b[0m in \u001b[0;36mto_dict\u001b[1;34m(self, *args, **kwargs)\u001b[0m\n\u001b[0;32m    380\u001b[0m         \u001b[1;32mif\u001b[0m \u001b[0mdct\u001b[0m \u001b[1;32mis\u001b[0m \u001b[1;32mNone\u001b[0m\u001b[1;33m:\u001b[0m\u001b[1;33m\u001b[0m\u001b[1;33m\u001b[0m\u001b[0m\n\u001b[0;32m    381\u001b[0m             \u001b[0mkwargs\u001b[0m\u001b[1;33m[\u001b[0m\u001b[1;34m\"validate\"\u001b[0m\u001b[1;33m]\u001b[0m \u001b[1;33m=\u001b[0m \u001b[1;34m\"deep\"\u001b[0m\u001b[1;33m\u001b[0m\u001b[1;33m\u001b[0m\u001b[0m\n\u001b[1;32m--> 382\u001b[1;33m             \u001b[0mdct\u001b[0m \u001b[1;33m=\u001b[0m \u001b[0msuper\u001b[0m\u001b[1;33m(\u001b[0m\u001b[0mTopLevelMixin\u001b[0m\u001b[1;33m,\u001b[0m \u001b[0mcopy\u001b[0m\u001b[1;33m)\u001b[0m\u001b[1;33m.\u001b[0m\u001b[0mto_dict\u001b[0m\u001b[1;33m(\u001b[0m\u001b[1;33m*\u001b[0m\u001b[0margs\u001b[0m\u001b[1;33m,\u001b[0m \u001b[1;33m**\u001b[0m\u001b[0mkwargs\u001b[0m\u001b[1;33m)\u001b[0m\u001b[1;33m\u001b[0m\u001b[1;33m\u001b[0m\u001b[0m\n\u001b[0m\u001b[0;32m    383\u001b[0m \u001b[1;33m\u001b[0m\u001b[0m\n\u001b[0;32m    384\u001b[0m         \u001b[1;31m# TODO: following entries are added after validation. Should they be validated?\u001b[0m\u001b[1;33m\u001b[0m\u001b[1;33m\u001b[0m\u001b[1;33m\u001b[0m\u001b[0m\n",
      "\u001b[1;32m~\\anaconda3_1\\lib\\site-packages\\altair\\utils\\schemapi.py\u001b[0m in \u001b[0;36mto_dict\u001b[1;34m(self, validate, ignore, context)\u001b[0m\n\u001b[0;32m    337\u001b[0m                 \u001b[0mself\u001b[0m\u001b[1;33m.\u001b[0m\u001b[0mvalidate\u001b[0m\u001b[1;33m(\u001b[0m\u001b[0mresult\u001b[0m\u001b[1;33m)\u001b[0m\u001b[1;33m\u001b[0m\u001b[1;33m\u001b[0m\u001b[0m\n\u001b[0;32m    338\u001b[0m             \u001b[1;32mexcept\u001b[0m \u001b[0mjsonschema\u001b[0m\u001b[1;33m.\u001b[0m\u001b[0mValidationError\u001b[0m \u001b[1;32mas\u001b[0m \u001b[0merr\u001b[0m\u001b[1;33m:\u001b[0m\u001b[1;33m\u001b[0m\u001b[1;33m\u001b[0m\u001b[0m\n\u001b[1;32m--> 339\u001b[1;33m                 \u001b[1;32mraise\u001b[0m \u001b[0mSchemaValidationError\u001b[0m\u001b[1;33m(\u001b[0m\u001b[0mself\u001b[0m\u001b[1;33m,\u001b[0m \u001b[0merr\u001b[0m\u001b[1;33m)\u001b[0m\u001b[1;33m\u001b[0m\u001b[1;33m\u001b[0m\u001b[0m\n\u001b[0m\u001b[0;32m    340\u001b[0m         \u001b[1;32mreturn\u001b[0m \u001b[0mresult\u001b[0m\u001b[1;33m\u001b[0m\u001b[1;33m\u001b[0m\u001b[0m\n\u001b[0;32m    341\u001b[0m \u001b[1;33m\u001b[0m\u001b[0m\n",
      "\u001b[1;31mSchemaValidationError\u001b[0m: Invalid specification\n\n        altair.vegalite.v4.api.Chart, validating 'required'\n\n        'data' is a required property\n        "
     ]
    }
   ],
   "source": [
    "((Background + points_Female1)&(Background + points_Female2)) | ((Background + points_Female3)&(Background + points_Female4)) | plot"
   ]
  },
  {
   "cell_type": "code",
   "execution_count": null,
   "metadata": {},
   "outputs": [],
   "source": []
  },
  {
   "cell_type": "code",
   "execution_count": 179,
   "metadata": {},
   "outputs": [
    {
     "output_type": "error",
     "ename": "SyntaxError",
     "evalue": "keyword argument repeated (<ipython-input-179-ceae76ac4a2e>, line 3)",
     "traceback": [
      "\u001b[1;36m  File \u001b[1;32m\"<ipython-input-179-ceae76ac4a2e>\"\u001b[1;36m, line \u001b[1;32m3\u001b[0m\n\u001b[1;33m    color = alt.condition(selector, \"Female, Income: Q2:Q\", alt.value('lightgray'),legend=None ),\u001b[0m\n\u001b[1;37m    ^\u001b[0m\n\u001b[1;31mSyntaxError\u001b[0m\u001b[1;31m:\u001b[0m keyword argument repeated\n"
     ]
    }
   ],
   "source": [
    "points_Female = points_Female.add_selection(selector).encode(\n",
    "    color = alt.condition(selector, \"Female, Income: Q1:Q\", alt.value('lightgray'),legend=None ),\n",
    "    color = alt.condition(selector, \"Female, Income: Q2:Q\", alt.value('lightgray'),legend=None ),\n",
    "    color = alt.condition(selector, \"Female, Income: Q3:Q\", alt.value('lightgray'),legend=None ),\n",
    "    color = alt.condition(selector, \"Female, Income: Q4:Q\", alt.value('lightgray'),legend=None )\n",
    ")\n",
    "\n",
    "plot = plot.transform_filter(\n",
    "    selector\n",
    ")\n",
    "\n",
    "points_Female"
   ]
  },
  {
   "cell_type": "code",
   "execution_count": null,
   "metadata": {},
   "outputs": [],
   "source": []
  },
  {
   "cell_type": "code",
   "execution_count": null,
   "metadata": {},
   "outputs": [],
   "source": [
    "data_url =\"https://opportunityinsights.org/wp-content/uploads/2018/04/health_ineq_online_table_5.csv\"\n",
    "\n",
    "lookup_data = alt.LookupData(\n",
    "    data_url, key = \"statename\", fields = [\"year\", \"le_agg_q1_F\"]\n",
    ")\n",
    "\n"
   ]
  },
  {
   "cell_type": "code",
   "execution_count": null,
   "metadata": {},
   "outputs": [],
   "source": []
  }
 ]
}